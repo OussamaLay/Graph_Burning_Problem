{
 "cells": [
  {
   "cell_type": "code",
   "execution_count": 3,
   "metadata": {},
   "outputs": [],
   "source": [
    "import pandas as pd\n",
    "import networkx as nx\n",
    "import matplotlib.pyplot as plt\n"
   ]
  },
  {
   "cell_type": "markdown",
   "metadata": {},
   "source": [
    "# Lire le graphe depuis le fichier"
   ]
  },
  {
   "cell_type": "code",
   "execution_count": 4,
   "metadata": {},
   "outputs": [],
   "source": [
    "def lire_graphe(fichier):\n",
    "    \"\"\"\n",
    "    Lit un graphe à partir d'un fichier et le retourne sous forme de liste d'adjacence.\n",
    "    :param fichier: Chemin vers le fichier contenant le graphe.\n",
    "    :return: Dictionnaire représentant la liste d'adjacence du graphe.\n",
    "    \"\"\"\n",
    "    graphe = {}\n",
    "    with open(fichier, 'r') as f:\n",
    "        for ligne in f:\n",
    "            # Suppression des espaces inutiles et saut de ligne\n",
    "            ligne = ligne.strip()\n",
    "\n",
    "            #u, v = map(int, ligne.split(\",\"))   # Split par \",\"\n",
    "            u, v = map(int, ligne.split())  # Split par espace\n",
    "            \n",
    "            # Ajouter l'arête dans les deux sens pour un graphe non orienté\n",
    "            graphe.setdefault(u, []).append(v)\n",
    "            graphe.setdefault(v, []).append(u)\n",
    "    return graphe\n"
   ]
  },
  {
   "cell_type": "markdown",
   "metadata": {},
   "source": [
    "# Afficher le graphe"
   ]
  },
  {
   "cell_type": "code",
   "execution_count": 5,
   "metadata": {},
   "outputs": [],
   "source": [
    "def afficher_graphe(graphe, couleurs=None, titre=None):\n",
    "    \"\"\"\n",
    "    Affiche le graphe donné sous forme de dictionnaire avec des couleurs personnalisées.\n",
    "\n",
    "    :param graphe: Dictionnaire représentant le graphe (liste d'adjacence).\n",
    "    :param couleurs: Dictionnaire des couleurs pour chaque nœud.\n",
    "    :param title: Titre à afficher pour le graphe.\n",
    "    \"\"\"\n",
    "    # Créer un objet graphe NetworkX\n",
    "    G = nx.Graph()\n",
    "    for sommet, voisins in graphe.items():\n",
    "        for voisin in voisins:\n",
    "            G.add_edge(sommet, voisin)\n",
    "\n",
    "    # Layout for better node positioning\n",
    "    pos = nx.spring_layout(G, seed=69)  # Spring layout for a more aesthetic layout\n",
    "\n",
    "    # Si aucune couleur n'est fournie, utiliser une couleur par défaut\n",
    "    if couleurs is None:\n",
    "        couleurs = {node: \"lightblue\" for node in G.nodes()}\n",
    "\n",
    "    # Draw the graph with improved parameters\n",
    "    plt.figure(figsize=(10, 6))  # Larger figure for better visualization\n",
    "    nx.draw(\n",
    "        G, \n",
    "        pos, \n",
    "        with_labels=True, \n",
    "        node_size=500,                      # Larger nodes for better visibility\n",
    "        node_color=[couleurs[node] for node in G.nodes()],  # Apply custom colors\n",
    "        font_size=10,                       # Adjust font size\n",
    "        font_color=\"black\",                 # Label color\n",
    "        font_weight=\"bold\",                 # Bold font for labels\n",
    "        edge_color=\"gray\",                  # Edge color\n",
    "        linewidths=1.5                      # Edge line width\n",
    "    )\n",
    "\n",
    "    # Ajouter un titre si fourni\n",
    "    if titre:\n",
    "        plt.title(titre, fontsize=12, fontweight=\"bold\")\n",
    "        \n",
    "    plt.show()\n"
   ]
  },
  {
   "cell_type": "markdown",
   "metadata": {},
   "source": [
    "# Afficher les étapes de brulage du graphe"
   ]
  },
  {
   "cell_type": "code",
   "execution_count": 6,
   "metadata": {},
   "outputs": [],
   "source": [
    "def visualiser_graphe_par_etape(graphe, chemin):\n",
    "    \"\"\"\n",
    "    Affiche le graphe à chaque étape avec les sommets brûlés et non brûlés.\n",
    "\n",
    "    :param graphe: Dictionnaire représentant le graphe (liste d'adjacence).\n",
    "    :param chemin: Liste des sommets choisis comme sources de feu.\n",
    "    \"\"\"\n",
    "    # Initialisation : tous les sommets sont non brûlés\n",
    "    couleurs = {sommet: \"lightgrey\" for sommet in graphe.keys()}\n",
    "    etape = 1\n",
    "\n",
    "    # Afficher le graphe à chaque étape\n",
    "    while not all(sommet == \"red\" for sommet in couleurs.values()) :\n",
    "        # Mettre à jour la couleur du sommet source en rouge\n",
    "        source = chemin[etape-1] if etape <= len(chemin) else None\n",
    "        \n",
    "        if source != None:\n",
    "            couleurs[source] = \"red\"\n",
    "            titre = f\"Étape {etape}: Source {source}\"\n",
    "        else :\n",
    "            titre = f\"Étape {etape}: Aucune source\"\n",
    "        \n",
    "        # Colorier les prochains voisins à bruler en jaune\n",
    "        for sommet in couleurs:\n",
    "            if couleurs[sommet] == \"yellow\":\n",
    "                couleurs[sommet] = \"red\"\n",
    "        \n",
    "        # Trouver les voisins à l'étape actuelle\n",
    "        for sommet in couleurs:\n",
    "            if couleurs[sommet] == \"red\":\n",
    "                voisins = graphe[sommet]\n",
    "                for voisin in voisins:\n",
    "                    if couleurs[voisin] == \"lightgrey\":  # Ne colorer que les sommets non brûlés\n",
    "                        couleurs[voisin] = \"yellow\"\n",
    "        \n",
    "        etape += 1\n",
    "\n",
    "        # Afficher l'état actuel du graphe\n",
    "        afficher_graphe(graphe, couleurs=couleurs, titre=titre)"
   ]
  },
  {
   "cell_type": "markdown",
   "metadata": {},
   "source": [
    "# Géneration des graphes usuels"
   ]
  },
  {
   "cell_type": "code",
   "execution_count": 7,
   "metadata": {},
   "outputs": [],
   "source": [
    "def generate_cyclic_graph(n):\n",
    "    \"\"\"\n",
    "    Génère un graphe cyclique avec n nœuds.\n",
    "    :param n: Nombre de nœuds\n",
    "    :return: Un objet NetworkX représentant le graphe cyclique\n",
    "    \"\"\"\n",
    "    G = nx.cycle_graph(n)\n",
    "    return nx.to_dict_of_lists(G)"
   ]
  },
  {
   "cell_type": "code",
   "execution_count": 8,
   "metadata": {},
   "outputs": [],
   "source": [
    "def generate_chain_graph(n):\n",
    "    \"\"\"\n",
    "    Génère un graphe chaîné avec n nœuds.\n",
    "    :param n: Nombre de nœuds\n",
    "    :return: Un objet NetworkX représentant le graphe chaîné\n",
    "    \"\"\"\n",
    "    G = nx.path_graph(n)\n",
    "    return nx.to_dict_of_lists(G)"
   ]
  },
  {
   "cell_type": "code",
   "execution_count": 13,
   "metadata": {},
   "outputs": [],
   "source": [
    "def generate_spider_graph(central_node, leg_length, num_legs):\n",
    "    \"\"\"\n",
    "    Génère un graphe en forme d'araignée avec un nœud central, des \"pattes\" de longueur donnée, et un nombre donné de pattes.\n",
    "    :param central_node: Le numéro ou le nom du nœud central\n",
    "    :param leg_length: Longueur de chaque patte\n",
    "    :param num_legs: Nombre de pattes (branches)\n",
    "    :return: Un objet NetworkX représentant le graphe araignée\n",
    "    \"\"\"\n",
    "    G = nx.Graph()\n",
    "    G.add_node(central_node)\n",
    "    s = 1\n",
    "    for i in range(num_legs):\n",
    "        previous_node = central_node\n",
    "        for j in range(leg_length):\n",
    "            # Branche i et noeud j\n",
    "            G.add_edge(previous_node, s)\n",
    "            previous_node = s\n",
    "            s +=1\n",
    "    return nx.to_dict_of_lists(G)"
   ]
  },
  {
   "cell_type": "markdown",
   "metadata": {},
   "source": [
    "# Liste des voisins"
   ]
  },
  {
   "cell_type": "code",
   "execution_count": null,
   "metadata": {},
   "outputs": [],
   "source": [
    "def calculer_voisinage(graphe, u, distance):\n",
    "    \"\"\"Retourne tous les sommets atteignables depuis u en <= distance étapes.\"\"\"\n",
    "    visites = set()\n",
    "    a_visiter = {u}\n",
    "    for _ in range(distance):\n",
    "        nouveaux_voisins = set()\n",
    "        for v in a_visiter:\n",
    "            if v not in visites:\n",
    "                visites.add(v)\n",
    "                nouveaux_voisins.update(graphe.get(v, []))\n",
    "        a_visiter = nouveaux_voisins - visites\n",
    "    return list(visites)"
   ]
  },
  {
   "cell_type": "code",
   "execution_count": null,
   "metadata": {},
   "outputs": [],
   "source": [
    "def calculer_voisinage_etendu(graphe, u, distance):\n",
    "    \"\"\"\n",
    "    Calcule la liste des sommets atteignables jusqu'à une certaine distance depuis un sommet donné.\n",
    "    \n",
    "    :param graphe: Dictionnaire représentant la liste d'adjacence du graphe.\n",
    "    :param u: Sommet de départ.\n",
    "    :param distance: Rayon du voisinage (nombre maximum d'arêtes).\n",
    "    :return: Liste des sommets atteignables jusqu'à la distance donnée (sans doublons).\n",
    "    \"\"\"\n",
    "    if distance < 1:\n",
    "        return []\n",
    "\n",
    "    visites = set()  # Ensemble pour éviter les doublons\n",
    "    a_explorer = {u}  # Sommets à explorer, initialement le sommet de départ\n",
    "\n",
    "    for _ in range(distance):\n",
    "        nouveaux_voisins = set()\n",
    "        for v in a_explorer:\n",
    "            # Ajouter les voisins directs du sommet courant\n",
    "            nouveaux_voisins.update(graphe.get(v, []))\n",
    "        # Mettre à jour les sommets à explorer avec les nouveaux voisins qui n'ont pas encore été visités\n",
    "        a_explorer = nouveaux_voisins - visites\n",
    "        visites.update(nouveaux_voisins)\n",
    "\n",
    "        # Si aucun sommet n'est à explorer, il n'y a plus de sommets à visiter\n",
    "        if not a_explorer:\n",
    "            break\n",
    "\n",
    "    return list(visites)\n"
   ]
  }
 ],
 "metadata": {
  "kernelspec": {
   "display_name": ".venv",
   "language": "python",
   "name": "python3"
  },
  "language_info": {
   "codemirror_mode": {
    "name": "ipython",
    "version": 3
   },
   "file_extension": ".py",
   "mimetype": "text/x-python",
   "name": "python",
   "nbconvert_exporter": "python",
   "pygments_lexer": "ipython3",
   "version": "3.11.6"
  }
 },
 "nbformat": 4,
 "nbformat_minor": 2
}
