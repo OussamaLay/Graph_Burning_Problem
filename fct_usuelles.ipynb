{
 "cells": [
  {
   "cell_type": "code",
   "execution_count": 1,
   "metadata": {},
   "outputs": [],
   "source": [
    "import pandas as pd\n",
    "import networkx as nx\n",
    "import matplotlib.pyplot as plt"
   ]
  },
  {
   "cell_type": "markdown",
   "metadata": {},
   "source": [
    "# Lire le graphe depuis le fichier"
   ]
  },
  {
   "cell_type": "code",
   "execution_count": 2,
   "metadata": {},
   "outputs": [],
   "source": [
    "def lire_graphe(fichier):\n",
    "    \"\"\"\n",
    "    Lit un graphe à partir d'un fichier et le retourne sous forme de liste d'adjacence.\n",
    "    :param fichier: Chemin vers le fichier contenant le graphe.\n",
    "    :return: Dictionnaire représentant la liste d'adjacence du graphe.\n",
    "    \"\"\"\n",
    "    graphe = {}\n",
    "    with open(fichier, 'r') as f:\n",
    "        for ligne in f:\n",
    "            # Suppression des espaces inutiles et saut de ligne\n",
    "            ligne = ligne.strip()\n",
    "\n",
    "            #u, v = map(int, ligne.split(\",\"))   # Split par \",\"\n",
    "            u, v = map(int, ligne.split())  # Split par espace\n",
    "            \n",
    "            # Ajouter l'arête dans les deux sens pour un graphe non orienté\n",
    "            graphe.setdefault(u, []).append(v)\n",
    "            graphe.setdefault(v, []).append(u)\n",
    "    return graphe\n"
   ]
  },
  {
   "cell_type": "markdown",
   "metadata": {},
   "source": [
    "# Afficher le graphe"
   ]
  },
  {
   "cell_type": "code",
   "execution_count": 3,
   "metadata": {},
   "outputs": [],
   "source": [
    "def afficher_graphe(graphe, couleurs=None, titre=None):\n",
    "    \"\"\"\n",
    "    Affiche le graphe donné sous forme de dictionnaire avec des couleurs personnalisées.\n",
    "\n",
    "    :param graphe: Dictionnaire représentant le graphe (liste d'adjacence).\n",
    "    :param couleurs: Dictionnaire des couleurs pour chaque nœud.\n",
    "    :param title: Titre à afficher pour le graphe.\n",
    "    \"\"\"\n",
    "    # Créer un objet graphe NetworkX\n",
    "    G = nx.Graph()\n",
    "    for sommet, voisins in graphe.items():\n",
    "        for voisin in voisins:\n",
    "            G.add_edge(sommet, voisin)\n",
    "\n",
    "    # Layout for better node positioning\n",
    "    pos = nx.spring_layout(G, seed=69)  # Spring layout for a more aesthetic layout\n",
    "\n",
    "    # Si aucune couleur n'est fournie, utiliser une couleur par défaut\n",
    "    if couleurs is None:\n",
    "        couleurs = {node: \"lightblue\" for node in G.nodes()}\n",
    "\n",
    "    # Draw the graph with improved parameters\n",
    "    plt.figure(figsize=(10, 6))  # Larger figure for better visualization\n",
    "    nx.draw(\n",
    "        G, \n",
    "        pos, \n",
    "        with_labels=True, \n",
    "        node_size=500,                      # Larger nodes for better visibility\n",
    "        node_color=[couleurs[node] for node in G.nodes()],  # Apply custom colors\n",
    "        font_size=10,                       # Adjust font size\n",
    "        font_color=\"black\",                 # Label color\n",
    "        font_weight=\"bold\",                 # Bold font for labels\n",
    "        edge_color=\"gray\",                  # Edge color\n",
    "        linewidths=1.5                      # Edge line width\n",
    "    )\n",
    "\n",
    "    # Ajouter un titre si fourni\n",
    "    if titre:\n",
    "        plt.title(titre, fontsize=12, fontweight=\"bold\")\n",
    "        \n",
    "    plt.show()\n"
   ]
  },
  {
   "cell_type": "markdown",
   "metadata": {},
   "source": [
    "# Afficher les étapes de brulage du graphe"
   ]
  },
  {
   "cell_type": "code",
   "execution_count": 4,
   "metadata": {},
   "outputs": [],
   "source": [
    "def visualiser_graphe_par_etape(graphe, chemin):\n",
    "    \"\"\"\n",
    "    Affiche le graphe à chaque étape avec les sommets brûlés et non brûlés.\n",
    "\n",
    "    :param graphe: Dictionnaire représentant le graphe (liste d'adjacence).\n",
    "    :param chemin: Liste des sommets choisis comme sources de feu.\n",
    "    \"\"\"\n",
    "    # Initialisation : tous les sommets sont non brûlés\n",
    "    couleurs = {sommet: \"lightgrey\" for sommet in graphe.keys()}\n",
    "\n",
    "    # Afficher le graphe à chaque étape\n",
    "    for etape, source in enumerate(chemin, start=1):\n",
    "        # Mettre à jour la couleur du sommet source en rouge\n",
    "        couleurs[source] = \"red\"\n",
    "\n",
    "        for sommet in couleurs:\n",
    "            if couleurs[sommet] == \"yellow\":\n",
    "                couleurs[sommet] = \"red\"\n",
    "        \n",
    "        # Trouver les voisins à l'étape actuelle\n",
    "        for sommet in couleurs:\n",
    "            if couleurs[sommet] == \"red\":\n",
    "                voisins = graphe[sommet]\n",
    "                for voisin in voisins:\n",
    "                    if couleurs[voisin] == \"lightgrey\":  # Ne colorer que les sommets non brûlés\n",
    "                        couleurs[voisin] = \"yellow\"\n",
    "        \n",
    "\n",
    "        # Afficher l'état actuel du graphe\n",
    "        titre = f\"Étape {etape}: Source {source}\"\n",
    "        afficher_graphe(graphe, couleurs=couleurs, titre=titre)"
   ]
  }
 ],
 "metadata": {
  "kernelspec": {
   "display_name": ".venv",
   "language": "python",
   "name": "python3"
  },
  "language_info": {
   "codemirror_mode": {
    "name": "ipython",
    "version": 3
   },
   "file_extension": ".py",
   "mimetype": "text/x-python",
   "name": "python",
   "nbconvert_exporter": "python",
   "pygments_lexer": "ipython3",
   "version": "3.11.6"
  }
 },
 "nbformat": 4,
 "nbformat_minor": 2
}
