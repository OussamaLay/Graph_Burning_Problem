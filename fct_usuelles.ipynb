{
 "cells": [
  {
   "cell_type": "code",
   "execution_count": null,
   "metadata": {},
   "outputs": [],
   "source": [
    "import pandas as pd\n",
    "import networkx as nx\n",
    "import matplotlib.pyplot as plt"
   ]
  },
  {
   "cell_type": "markdown",
   "metadata": {},
   "source": [
    "# Lire le graphe depuis le fichier"
   ]
  },
  {
   "cell_type": "code",
   "execution_count": null,
   "metadata": {},
   "outputs": [],
   "source": [
    "def lire_graphe(fichier):\n",
    "    \"\"\"\n",
    "    Lit un graphe à partir d'un fichier et le retourne sous forme de liste d'adjacence.\n",
    "    :param fichier: Chemin vers le fichier contenant le graphe.\n",
    "    :return: Dictionnaire représentant la liste d'adjacence du graphe.\n",
    "    \"\"\"\n",
    "    graphe = {}\n",
    "    with open(fichier, 'r') as f:\n",
    "        for ligne in f:\n",
    "            # Suppression des espaces inutiles et saut de ligne\n",
    "            ligne = ligne.strip()\n",
    "\n",
    "            #u, v = map(int, ligne.split(\",\"))   # Split par \",\"\n",
    "            u, v = map(int, ligne.split())  # Split par espace\n",
    "            \n",
    "            # Ajouter l'arête dans les deux sens pour un graphe non orienté\n",
    "            graphe.setdefault(u, []).append(v)\n",
    "            graphe.setdefault(v, []).append(u)\n",
    "    return graphe\n"
   ]
  },
  {
   "cell_type": "code",
   "execution_count": null,
   "metadata": {},
   "outputs": [],
   "source": [
    "def afficher_graphe(fichier):\n",
    "    edges = pd.read_csv(fichier, sep=\" \", header=None, names=[\"Source\", \"Target\"])\n",
    "\n",
    "    # Create the graph\n",
    "    graph = nx.from_pandas_edgelist(edges, source=\"Source\", target=\"Target\")\n",
    "\n",
    "    # Layout for better node positioning\n",
    "    pos = nx.spring_layout(graph, seed=69)  # Spring layout for a more aesthetic layout\n",
    "\n",
    "    # Draw the graph with improved parameters\n",
    "    plt.figure(figsize=(12, 8))  # Larger figure for better visualization\n",
    "    nx.draw(\n",
    "        graph, \n",
    "        pos, \n",
    "        with_labels=True, \n",
    "        node_size=500,           # Larger nodes for better visibility\n",
    "        node_color=\"lightblue\",  # Change node color\n",
    "        font_size=10,            # Adjust font size\n",
    "        font_color=\"black\",      # Label color\n",
    "        font_weight=\"bold\",      # Bold font for labels\n",
    "        edge_color=\"gray\",       # Edge color\n",
    "        #alpha=0.8,               # Slight transparency for edges\n",
    "        linewidths=1.5           # Edge line width\n",
    "    )\n",
    "    #plt.title(\"Visual Cortex Graph\", fontsize=16)  # Add a title with larger font size\n",
    "    plt.show()"
   ]
  },
  {
   "cell_type": "code",
   "execution_count": null,
   "metadata": {},
   "outputs": [],
   "source": [
    "def visualiser_graphe_par_etape(graphe, chemin):\n",
    "    \"\"\"\n",
    "    Affiche le graphe à chaque étape avec les sommets brûlés et non brûlés.\n",
    "\n",
    "    :param graphe: Dictionnaire représentant le graphe (liste d'adjacence).\n",
    "    :param chemin: Liste des sommets choisis comme sources de feu.\n",
    "    \"\"\"\n",
    "    # Créer un objet graphe NetworkX\n",
    "    G = nx.Graph()\n",
    "    for sommet, voisins in graphe.items():\n",
    "        for voisin in voisins:\n",
    "            G.add_edge(sommet, voisin)\n",
    "\n",
    "    # Initialisation : tous les sommets sont non brûlés\n",
    "    couleurs = {sommet: \"lightgrey\" for sommet in graphe.keys()}\n",
    "\n",
    "    # Afficher le graphe à chaque étape\n",
    "    for etape, source in enumerate(chemin, start=1):\n",
    "        # Mettre à jour la couleur du sommet source en rouge\n",
    "        couleurs[source] = \"red\"\n",
    "\n",
    "        # Trouver les voisins à l'étape actuelle\n",
    "        voisins = graphe[source]\n",
    "        for voisin in voisins:\n",
    "            if couleurs[voisin] == \"lightgrey\":  # Ne colorer que les sommets non brûlés\n",
    "                couleurs[voisin] = \"yellow\"\n",
    "\n",
    "        # Dessiner le graphe avec NetworkX\n",
    "        pos = nx.spring_layout(G, seed=69)\n",
    "        plt.figure(figsize=(12, 8))\n",
    "        nx.draw(\n",
    "            G,\n",
    "            pos,\n",
    "            with_labels=True,\n",
    "            node_color=[couleurs[node] for node in G.nodes()],\n",
    "            node_size=500,\n",
    "            font_size=10,\n",
    "            font_color=\"black\",\n",
    "            font_weight=\"bold\",\n",
    "            edge_color=\"gray\",\n",
    "            linewidths=1.5,\n",
    "        )\n",
    "        plt.title(f\"Étape {etape}: Source {source}\")\n",
    "        plt.show()"
   ]
  }
 ],
 "metadata": {
  "kernelspec": {
   "display_name": "base",
   "language": "python",
   "name": "python3"
  },
  "language_info": {
   "name": "python",
   "version": "3.11.5"
  }
 },
 "nbformat": 4,
 "nbformat_minor": 2
}
