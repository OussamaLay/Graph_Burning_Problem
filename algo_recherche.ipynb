{
 "cells": [
  {
   "cell_type": "code",
   "execution_count": 64,
   "metadata": {},
   "outputs": [],
   "source": [
    "from collections import deque\n",
    "import random"
   ]
  },
  {
   "cell_type": "code",
   "execution_count": 65,
   "metadata": {},
   "outputs": [],
   "source": [
    "import nbimporter\n",
    "from fct_usuelles import lire_graphe, afficher_graphe, visualiser_graphe_par_etape"
   ]
  },
  {
   "cell_type": "markdown",
   "metadata": {},
   "source": [
    "prends en paramètre un graphe dans un état (càd avec des sommets brulés) et retourne le graphe dans l'état suivante"
   ]
  },
  {
   "cell_type": "code",
   "execution_count": 66,
   "metadata": {},
   "outputs": [],
   "source": [
    "def successeurs(graphe, etat_actuel):\n",
    "    \"\"\"\n",
    "    Génère l'état suivant en propageant la brûlure aux voisins des sommets déjà brûlés.\n",
    "    :param graphe: Le graphe sous forme de dictionnaire.\n",
    "    :param etat_actuel: Dictionnaire contenant l'état actuel des sommets (brûlés ou non brûlés).\n",
    "    :return: Nouveau dictionnaire représentant l'état des sommets après propagation.\n",
    "    \"\"\"\n",
    "    # Copier l'état actuel pour générer le nouvel état\n",
    "    nouvel_etat = etat_actuel.copy()\n",
    "\n",
    "    # Récupérer tous les sommets brûlés\n",
    "    sommets_brules = [sommet for sommet, etat in nouvel_etat.items() if etat == \"brulé\"]\n",
    "\n",
    "    # Propager la brûlure aux voisins des sommets brûlés\n",
    "    for sommet in sommets_brules:\n",
    "        for voisin in graphe.get(sommet, []):  # Obtenir les voisins dans la liste d'adjacence\n",
    "            if nouvel_etat[voisin] == \"non brûlé\":  # Brûler uniquement les sommets non brûlés\n",
    "                nouvel_etat[voisin] = \"brulé\"\n",
    "\n",
    "    return nouvel_etat"
   ]
  },
  {
   "cell_type": "markdown",
   "metadata": {},
   "source": [
    "test_but : vérifie si tout les sommets sont brulées"
   ]
  },
  {
   "cell_type": "code",
   "execution_count": 67,
   "metadata": {},
   "outputs": [],
   "source": [
    "def test_but(etat_actuel):\n",
    "    \"\"\"\n",
    "    Vérifie si tous les sommets du graphe sont brûlés.\n",
    "    :param etat_actuel: Dictionnaire contenant l'état actuel des sommets (brûlés ou non brûlés).\n",
    "    :return: True si tous les sommets sont brûlés, False sinon.\n",
    "    \"\"\"\n",
    "    return all(etat == \"brulé\" for etat in etat_actuel.values())\n"
   ]
  },
  {
   "cell_type": "code",
   "execution_count": 68,
   "metadata": {},
   "outputs": [],
   "source": [
    "def choisir_sommet_a_bruler(graphe, etat_actuel):\n",
    "    \"\"\"\n",
    "    Sélectionne un sommet non brûlé ayant le maximum de voisins.\n",
    "    \n",
    "    :param graphe: Le graphe sous forme de dictionnaire (liste d'adjacence).\n",
    "    :param etat_actuel: Dictionnaire contenant l'état actuel des sommets.\n",
    "    :return: Le sommet non brûlé avec le maximum de voisins, ou None si aucun sommet disponible.\n",
    "    \"\"\"\n",
    "    # Trouver les sommets non brûlés\n",
    "    sommets_non_brules = [sommet for sommet, etat in etat_actuel.items() if etat == \"non brûlé\"]\n",
    "    \n",
    "    if not sommets_non_brules:\n",
    "        # Aucun sommet non brûlé\n",
    "        return None\n",
    "\n",
    "    # Trouver le sommet avec le maximum de voisins\n",
    "    sommet_max_voisins = max(sommets_non_brules, key=lambda sommet: len(graphe.get(sommet, [])))\n",
    "\n",
    "    return sommet_max_voisins\n"
   ]
  },
  {
   "cell_type": "code",
   "execution_count": 69,
   "metadata": {},
   "outputs": [],
   "source": [
    "def choisir_sommet_aleatoire(etat_actuel):\n",
    "    sommets_non_brules = [sommet for sommet, etat in etat_actuel.items() if etat == \"non brûlé\"]\n",
    "    return random.choice(sommets_non_brules) if sommets_non_brules else None\n"
   ]
  },
  {
   "cell_type": "markdown",
   "metadata": {},
   "source": [
    "## 1ère méthode"
   ]
  },
  {
   "cell_type": "code",
   "execution_count": 70,
   "metadata": {},
   "outputs": [],
   "source": [
    "def recherche(graphe, etat_initial, successeurs, test_but):\n",
    "    \"\"\"\n",
    "    Algorithme générique de recherche pour brûler un graphe en choisissant un sommet par étape.\n",
    "    :param graphe: Le graphe sous forme de dictionnaire (liste d'adjacence).\n",
    "    :param etat_initial: Dictionnaire représentant l'état initial des sommets (brûlés ou non brûlés).\n",
    "    :param successeurs: Fonction qui génère l'état suivant (propagation).\n",
    "    :param test_but: Fonction qui vérifie si tous les sommets sont brûlés.\n",
    "    :return: Chemin (liste des états successifs), sommets brûlés activement à chaque étape, et coût total.\n",
    "    \"\"\"\n",
    "    # Initialisation : créer la liste des états à traiter\n",
    "    etats_a_traiter = deque([{\"etat\": etat_initial, \"cout\": 0, \"brules_actifs\": []}])\n",
    "\n",
    "    while etats_a_traiter:\n",
    "        # Extraire un état\n",
    "        noeud = etats_a_traiter.pop()\n",
    "\n",
    "        noeud[\"etat\"] = successeurs(graphe, noeud[\"etat\"])\n",
    "\n",
    "        # Vérifier si tous les sommets sont brûlés\n",
    "        if test_but(noeud[\"etat\"]):\n",
    "            return noeud[\"brules_actifs\"], noeud[\"cout\"]\n",
    "\n",
    "        # Choisir un nouveau sommet à brûler activement\n",
    "        nouveau_sommet = choisir_sommet_a_bruler(graphe, noeud[\"etat\"])\n",
    "        #nouveau_sommet = choisir_sommet_aleatoire(noeud[\"etat\"])\n",
    "        if nouveau_sommet is None:\n",
    "            # Si aucun sommet à brûler n'est disponible, retourner l'état actuel\n",
    "            continue\n",
    "\n",
    "        # Marquer le nouveau sommet comme \"brûlé\"\n",
    "        etat_suivant = noeud[\"etat\"].copy()\n",
    "        etat_suivant[nouveau_sommet] = \"brulé\"\n",
    "\n",
    "        # Ajouter le nouvel état à la liste des états à traiter\n",
    "        etats_a_traiter.append({\n",
    "            \"etat\": etat_suivant,\n",
    "            \"cout\": noeud[\"cout\"] + 1,  # Chaque étape coûte 1\n",
    "            \"brules_actifs\": noeud[\"brules_actifs\"] + [nouveau_sommet]\n",
    "        })\n",
    "\n",
    "    # Si aucun état final n'est trouvé\n",
    "    return None, [], float(\"inf\")\n"
   ]
  },
  {
   "cell_type": "code",
   "execution_count": 71,
   "metadata": {},
   "outputs": [],
   "source": [
    "# 10 sommets (3.16)\n",
    "#fichier = r'instances\\Stranke94\\Stranke94.mtx'\n",
    "\n",
    "# 29 sommets (5.38)\n",
    "#fichier = r'instances\\bn-mouse_visual-cortex_1\\bn-mouse_visual-cortex_1.mtx'\n",
    "\n",
    "# 34 sommets (5,83)\n",
    "#fichier = r'instances\\karate\\karate.mtx'\n",
    "\n",
    "# 7057 sommets (84.005)\n",
    "#fichier = r'instances\\fb-pages-government\\fb-pages-government.mtx'\n",
    "\n",
    "# 11631 sommets (107.84)\n",
    "fichier = r'instances\\web-wiki-crocodile\\web-wiki-crocodile.mtx'\n",
    "\n",
    "# 196 591 sommets (443.38)\n",
    "#fichier = r'instances\\loc-gowalla_edges\\loc-gowalla_edges.mtx'\n",
    "\n",
    "# Charger un graphe avec la fonction lire_graphe\n",
    "graphe = lire_graphe(fichier)"
   ]
  },
  {
   "cell_type": "code",
   "execution_count": null,
   "metadata": {},
   "outputs": [],
   "source": [
    "afficher_graphe(graphe)"
   ]
  },
  {
   "cell_type": "code",
   "execution_count": 72,
   "metadata": {},
   "outputs": [
    {
     "name": "stdout",
     "output_type": "stream",
     "text": [
      "Sommets brûlés à chaque étape: [11535, 10437, 10284, 11601, 6344, 10982]\n",
      "Coût total: 6\n"
     ]
    }
   ],
   "source": [
    "etat_initial = {sommet: \"non brûlé\" for sommet in graphe}\n",
    "\n",
    "sommets_actifs, cout = recherche(graphe, etat_initial, successeurs, test_but)\n",
    "\n",
    "print(\"Sommets brûlés à chaque étape:\", sommets_actifs)\n",
    "print(\"Coût total:\", cout)"
   ]
  },
  {
   "cell_type": "markdown",
   "metadata": {},
   "source": [
    "dire un sommet va etre brulé au 3 tour par exemple\n",
    "notre solution (du 2eme algo) sera le  centre (sommet) de la boule ayant le rayon le plus grand"
   ]
  },
  {
   "cell_type": "code",
   "execution_count": null,
   "metadata": {},
   "outputs": [],
   "source": [
    "# Visualiser le graphe par étape\n",
    "visualiser_graphe_par_etape(graphe, sommets_actifs)\n"
   ]
  },
  {
   "cell_type": "code",
   "execution_count": null,
   "metadata": {},
   "outputs": [],
   "source": []
  }
 ],
 "metadata": {
  "kernelspec": {
   "display_name": ".venv",
   "language": "python",
   "name": "python3"
  },
  "language_info": {
   "codemirror_mode": {
    "name": "ipython",
    "version": 3
   },
   "file_extension": ".py",
   "mimetype": "text/x-python",
   "name": "python",
   "nbconvert_exporter": "python",
   "pygments_lexer": "ipython3",
   "version": "3.11.6"
  }
 },
 "nbformat": 4,
 "nbformat_minor": 2
}
