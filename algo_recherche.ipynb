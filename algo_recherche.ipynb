{
 "cells": [
  {
   "cell_type": "code",
   "execution_count": 1,
   "metadata": {},
   "outputs": [],
   "source": [
    "import random\n",
    "import math\n",
    "import heapq\n",
    "import time\n",
    "import matplotlib.pyplot as plt\n",
    "from collections import deque, defaultdict"
   ]
  },
  {
   "cell_type": "code",
   "execution_count": 2,
   "metadata": {},
   "outputs": [],
   "source": [
    "import nbimporter\n",
    "from graph_utilities import calculer_voisinage_etendu\n",
    "from graph_utilities import lire_graphe, afficher_graphe, visualiser_graphe_par_etape\n",
    "from graph_utilities import generate_cyclic_graph, generate_chain_graph, generate_spider_graph"
   ]
  },
  {
   "cell_type": "markdown",
   "metadata": {},
   "source": [
    "prends en paramètre un graphe dans un état (càd avec des sommets brulés) et retourne le graphe dans l'état suivante"
   ]
  },
  {
   "cell_type": "code",
   "execution_count": 3,
   "metadata": {},
   "outputs": [],
   "source": [
    "def successeurs(graphe, etat_actuel, cout_actuel):\n",
    "    \"\"\"\n",
    "    Génère l'état suivant en propageant la brûlure aux voisins des sommets déjà brûlés.\n",
    "    :param graphe: Le graphe sous forme de dictionnaire.\n",
    "    :param etat_actuel: Dictionnaire contenant l'état actuel des sommets (brûlés ou non brûlés).\n",
    "    :return: Nouveau dictionnaire représentant l'état des sommets après propagation.\n",
    "    \"\"\"\n",
    "\n",
    "    # Copier l'état actuel pour générer le nouvel état\n",
    "    nouvel_etat = etat_actuel.copy()\n",
    "\n",
    "    # Récupérer tous les sommets brûlés\n",
    "    sommets_brules = [sommet for sommet, etat in nouvel_etat.items() if etat == 1]\n",
    "\n",
    "    # Propager la brûlure aux voisins des sommets brûlés\n",
    "    for sommet in sommets_brules:\n",
    "        for voisin in graphe.get(sommet, []):  # Obtenir les voisins dans la liste d'adjacence\n",
    "            if nouvel_etat[voisin] == 0:  # Brûler uniquement les sommets non brûlés\n",
    "                nouvel_etat[voisin] = 1\n",
    "                cout_actuel += 1  # Incrémenter le coût de propagation\n",
    "\n",
    "    return nouvel_etat, cout_actuel"
   ]
  },
  {
   "cell_type": "markdown",
   "metadata": {},
   "source": [
    "test_but : vérifie si tout les sommets sont brulées"
   ]
  },
  {
   "cell_type": "code",
   "execution_count": 4,
   "metadata": {},
   "outputs": [],
   "source": [
    "def test_but(etat_actuel):\n",
    "    \"\"\"\n",
    "    Vérifie si tous les sommets du graphe sont brûlés.\n",
    "    :param etat_actuel: Dictionnaire contenant l'état actuel des sommets (brûlés ou non brûlés).\n",
    "    :return: True si tous les sommets sont brûlés, False sinon.\n",
    "    \"\"\"\n",
    "    return all(etat == 1 for etat in etat_actuel.values())\n"
   ]
  },
  {
   "cell_type": "code",
   "execution_count": 5,
   "metadata": {},
   "outputs": [],
   "source": [
    "def choisir_sommet_a_bruler(graphe, etat_actuel):\n",
    "    \"\"\"\n",
    "    Sélectionne un sommet non brûlé ayant le maximum de voisins.\n",
    "    \n",
    "    :param graphe: Le graphe sous forme de dictionnaire (liste d'adjacence).\n",
    "    :param etat_actuel: Dictionnaire contenant l'état actuel des sommets.\n",
    "    :return: Le sommet non brûlé avec le maximum de voisins, ou None si aucun sommet disponible.\n",
    "    \"\"\"\n",
    "    # Trouver les sommets non brûlés\n",
    "    sommets_non_brules = [sommet for sommet, etat in etat_actuel.items() if etat == 0]\n",
    "    \n",
    "    if not sommets_non_brules:\n",
    "        # Aucun sommet non brûlé\n",
    "        return None\n",
    "\n",
    "    # Trouver le sommet avec le maximum de voisins\n",
    "    sommet_max_voisins = max(sommets_non_brules, key=lambda sommet: len(graphe.get(sommet, [])))\n",
    "\n",
    "    return sommet_max_voisins\n"
   ]
  },
  {
   "cell_type": "code",
   "execution_count": 6,
   "metadata": {},
   "outputs": [],
   "source": [
    "def choisir_sommet_aleatoire(etat_actuel):\n",
    "    sommets_non_brules = [sommet for sommet, etat in etat_actuel.items() if etat == 0]\n",
    "    return random.choice(sommets_non_brules) if sommets_non_brules else None\n"
   ]
  },
  {
   "cell_type": "markdown",
   "metadata": {},
   "source": [
    "## 1ère méthode"
   ]
  },
  {
   "cell_type": "code",
   "execution_count": 7,
   "metadata": {},
   "outputs": [],
   "source": [
    "def recherche_profondeur(graphe):\n",
    "    \"\"\"\n",
    "    Algorithme générique de recherche pour brûler un graphe en choisissant un sommet par étape.\n",
    "    :param graphe: Le graphe sous forme de dictionnaire (liste d'adjacence).\n",
    "    :param etat_initial: Dictionnaire représentant l'état initial des sommets (brûlés ou non brûlés).\n",
    "    :param successeurs: Fonction qui génère l'état suivant (propagation).\n",
    "    :param test_but: Fonction qui vérifie si tous les sommets sont brûlés.\n",
    "    :return: Chemin (liste des états successifs), sommets brûlés activement à chaque étape, et coût total.\n",
    "    \"\"\"\n",
    "    # Initialisation : créer la liste des états à traiter\n",
    "    etat_initial = {sommet: 0 for sommet in graphe}\n",
    "    etats_a_traiter = deque([{\"etat\": etat_initial, \"cout\": 1, \"brules_actifs\": []}])\n",
    "\n",
    "    while etats_a_traiter:\n",
    "        # Extraire un état\n",
    "        noeud = etats_a_traiter.pop()\n",
    "\n",
    "        noeud[\"etat\"], brulage = successeurs(graphe, noeud[\"etat\"])\n",
    "\n",
    "        if brulage:\n",
    "            noeud[\"cout\"] += 1  # Chaque étape coûte 1\n",
    "\n",
    "        # Vérifier si tous les sommets sont brûlés\n",
    "        if test_but(noeud[\"etat\"]):\n",
    "            return noeud[\"brules_actifs\"], noeud[\"cout\"]\n",
    "\n",
    "        # Choisir un nouveau sommet à brûler activement\n",
    "        nouveau_sommet = choisir_sommet_a_bruler(graphe, noeud[\"etat\"])\n",
    "        #nouveau_sommet = choisir_sommet_aleatoire(noeud[\"etat\"])\n",
    "        if nouveau_sommet is None:\n",
    "            # Si aucun sommet à brûler n'est disponible, retourner l'état actuel\n",
    "            continue\n",
    "\n",
    "        # Copier l'état courant\n",
    "        etat_suivant = noeud[\"etat\"].copy()\n",
    "\n",
    "        # Marquer le sommet comme \"brûlé\"\n",
    "        etat_suivant[nouveau_sommet] = 1\n",
    "\n",
    "        # Ajouter le nouvel état à la liste des états à traiter\n",
    "        etats_a_traiter.append({\n",
    "            \"etat\": etat_suivant,\n",
    "            \"cout\": noeud[\"cout\"],  # Chaque étape coûte 1\n",
    "            \"brules_actifs\": noeud[\"brules_actifs\"] + [nouveau_sommet]\n",
    "        })\n",
    "\n",
    "    # Si aucun état final n'est trouvé\n",
    "    return [], float(\"inf\")\n"
   ]
  },
  {
   "cell_type": "markdown",
   "metadata": {},
   "source": [
    "etape 1 :\n",
    "\n",
    "parcours en largeur : popleft de la liste des états à traiter\n",
    "\n",
    "parcours en largeur itéré : livre artificial intelligence section 3.4.4 et 3.4.5\n",
    "\n",
    "\n",
    "etape 2 : couverture des balles\n",
    "\n",
    "appliquer le A* dans le parcours"
   ]
  },
  {
   "cell_type": "markdown",
   "metadata": {},
   "source": [
    "bruler ce noeuds pendant un certain temps\n",
    "=> couverture par des balles\n",
    "\n",
    "l'ensemble des action : \n",
    "le cout : la taille de la grande balle\n",
    "fixer burning number dés le début (6)\n"
   ]
  },
  {
   "cell_type": "markdown",
   "metadata": {},
   "source": [
    "# 2éme méthode"
   ]
  },
  {
   "cell_type": "code",
   "execution_count": 36,
   "metadata": {},
   "outputs": [
    {
     "data": {
      "text/plain": [
       "[1]"
      ]
     },
     "execution_count": 36,
     "metadata": {},
     "output_type": "execute_result"
    }
   ],
   "source": [
    "etat_initial = {sommet: 0 for sommet in graphe}\n",
    "etats_a_traiter = deque([{\"etat\": etat_initial, \"cout\": 1, \"brules_actifs\": set([])}])\n",
    "etat = etats_a_traiter.popleft()\n",
    "list(etat[\"brules_actifs\"] | set([1]))"
   ]
  },
  {
   "cell_type": "code",
   "execution_count": 37,
   "metadata": {},
   "outputs": [],
   "source": [
    "def recherche_largeur(graphe):\n",
    "    \"\"\"\n",
    "    Algorithme générique de recherche en largeur pour brûler un graphe.\n",
    "    À chaque étape, chaque sommet est exploré pour générer tous les états possibles.\n",
    "    :param graphe: Le graphe sous forme de dictionnaire (liste d'adjacence).\n",
    "    :param etat_initial: Dictionnaire représentant l'état initial des sommets (brûlés ou non brûlés).\n",
    "    :param successeurs: Fonction qui génère l'état suivant (propagation).\n",
    "    :param test_but: Fonction qui vérifie si tous les sommets sont brûlés.\n",
    "    :return: Chemin (liste des états successifs), sommets brûlés activement à chaque étape, et coût total.\n",
    "    \"\"\"\n",
    "    # Initialisation : file (FIFO) pour gérer les états à traiter\n",
    "    etat_initial = {sommet: 0 for sommet in graphe}\n",
    "    etats_a_traiter = deque([{\"etat\": etat_initial, \"cout\": 1, \"brules_actifs\": set([])}])\n",
    "\n",
    "    while etats_a_traiter:\n",
    "        # Extraire un état de la file (FIFO)\n",
    "        etat = etats_a_traiter.popleft()\n",
    "\n",
    "        # Propager l'état courant (brûlage des voisins déjà brûlés)\n",
    "        etat[\"etat\"], cout = successeurs(graphe, etat[\"etat\"], etat[\"cout\"])\n",
    "\n",
    "        # Vérifier si tous les sommets sont brûlés\n",
    "        if test_but(etat[\"etat\"]):\n",
    "            return list(etat[\"brules_actifs\"]), etat[\"cout\"]\n",
    "\n",
    "        # Générer tous les nouveaux états possibles en brûlant chaque sommet non brûlé\n",
    "        for sommet in graphe:\n",
    "            if etat[\"etat\"].get(sommet) != 1:  # Si le sommet n'est pas encore brûlé\n",
    "                # Copier l'état courant\n",
    "                etat_suivant = etat[\"etat\"].copy()\n",
    "\n",
    "                # Marquer le sommet comme \"brûlé\"\n",
    "                etat_suivant[sommet] = 1\n",
    "\n",
    "                # Ajouter le nouvel état à la file\n",
    "                etats_a_traiter.append({\n",
    "                    \"etat\": etat_suivant,\n",
    "                    \"cout\": cout,\n",
    "                    \"brules_actifs\": etat[\"brules_actifs\"] | set([sommet])\n",
    "                })\n",
    "\n",
    "    # Si aucun état final n'est trouvé\n",
    "    return [], float(\"inf\")\n"
   ]
  },
  {
   "cell_type": "code",
   "execution_count": 9,
   "metadata": {},
   "outputs": [],
   "source": [
    "# 10 sommets (3.16)\n",
    "fichier = r'instances\\Stranke94\\Stranke94.mtx'\n",
    "\n",
    "# 29 sommets (5.38)\n",
    "#fichier = r'instances\\bn-mouse_visual-cortex_1\\bn-mouse_visual-cortex_1.mtx'\n",
    "\n",
    "# 34 sommets (5,83)\n",
    "#fichier = r'instances\\karate\\karate.mtx'\n",
    "\n",
    "# 62 sommets (7.87)\n",
    "#fichier = r'instances\\dolphins\\dolphins.mtx'\n",
    "\n",
    "# 105 sommets (12.88)\n",
    "#fichier = r'instances\\polbooks\\polbooks.mtx'\n",
    "\n",
    "# 258 sommets (16.06)\n",
    "#fichier = r'instances\\sphere3\\sphere3.mtx'\n",
    "\n",
    "# 379 sommets (19.47)\n",
    "#fichier = r'instances\\ca-netscience\\ca-netscience.mtx'\n",
    "\n",
    "# 7057 sommets (84.005)\n",
    "#fichier = r'instances\\fb-pages-government\\fb-pages-government.mtx'\n",
    "\n",
    "# 11631 sommets (107.84)\n",
    "#fichier = r'instances\\web-wiki-crocodile\\web-wiki-crocodile.mtx'\n",
    "\n",
    "# 196 591 sommets (443.38)\n",
    "#fichier = r'instances\\loc-gowalla_edges\\loc-gowalla_edges.mtx'\n",
    "\n",
    "graphe = lire_graphe(fichier)"
   ]
  },
  {
   "cell_type": "code",
   "execution_count": 53,
   "metadata": {},
   "outputs": [],
   "source": [
    "# Graphe cyclique (4)\n",
    "#graphe = generate_cyclic_graph(16)\n",
    "\n",
    "# Graphe en chaîne (4)\n",
    "graphe = generate_chain_graph(9)\n",
    "#graphe = generate_chain_graph(16)\n",
    "\n",
    "# Graphe en étoile/spider (4.58)\n",
    "#graphe = generate_spider_graph(0, leg_length=4, num_legs=5)"
   ]
  },
  {
   "cell_type": "code",
   "execution_count": 11,
   "metadata": {},
   "outputs": [],
   "source": [
    "#sommets_actifs_p, cout = recherche_profondeur(graphe)\n",
    "#\n",
    "#print(\"*********** Parcours en profondeur ***********\")\n",
    "#print(\"Sommets brûlés à chaque étape:\", sommets_actifs_p)\n",
    "#print(\"Coût total:\", cout)"
   ]
  },
  {
   "cell_type": "code",
   "execution_count": 55,
   "metadata": {},
   "outputs": [
    {
     "name": "stdout",
     "output_type": "stream",
     "text": [
      "*********** Parcours en largeur ***********\n",
      "Sommets brûlés à chaque étape: [0, 3, 7]\n",
      "Coût total: 4\n"
     ]
    }
   ],
   "source": [
    "sommets_actifs_l, cout = recherche_largeur(graphe)\n",
    "\n",
    "print(\"*********** Parcours en largeur ***********\")\n",
    "print(\"Sommets brûlés à chaque étape:\", sommets_actifs_l)\n",
    "print(\"Coût total:\", cout)"
   ]
  },
  {
   "cell_type": "markdown",
   "metadata": {},
   "source": [
    "dire un sommet va etre brulé au 3 tour par exemple\n",
    "notre solution (du 2eme algo) sera le  centre (sommet) de la boule ayant le rayon le plus grand"
   ]
  },
  {
   "cell_type": "code",
   "execution_count": 56,
   "metadata": {},
   "outputs": [
    {
     "data": {
      "image/png": "[encoded data removed]",
      "text/plain": [
       "<Figure size 1000x600 with 1 Axes>"
      ]
     },
     "metadata": {},
     "output_type": "display_data"
    },
    {
     "data": {
      "image/png": "[encoded data removed]",
      "text/plain": [
       "<Figure size 1000x600 with 1 Axes>"
      ]
     },
     "metadata": {},
     "output_type": "display_data"
    },
    {
     "data": {
      "image/png": "[encoded data removed]",
      "text/plain": [
       "<Figure size 1000x600 with 1 Axes>"
      ]
     },
     "metadata": {},
     "output_type": "display_data"
    },
    {
     "data": {
      "image/png": "[encoded data removed]",
      "text/plain": [
       "<Figure size 1000x600 with 1 Axes>"
      ]
     },
     "metadata": {},
     "output_type": "display_data"
    }
   ],
   "source": [
    "# Visualiser le graphe par étape\n",
    "visualiser_graphe_par_etape(graphe, sommets_actifs_l)\n"
   ]
  },
  {
   "cell_type": "markdown",
   "metadata": {},
   "source": [
    "# Couverture des balles"
   ]
  },
  {
   "cell_type": "markdown",
   "metadata": {},
   "source": [
    "### Définition clarifiée des balles :\n",
    "1. **Rayon de la balle** :\n",
    "   - Le rayon $ r $ détermine combien de niveaux de voisins (profondeur dans le graphe) la balle peut atteindre depuis son centre $ U $.\n",
    "   - Par exemple :\n",
    "     - Rayon 1 : Brûle uniquement les voisins directs de $ U $.\n",
    "     - Rayon 2 : Brûle les voisins de $ U $ et les voisins des voisins de $ U $.\n",
    "\n",
    "2. **Centre de la balle** :\n",
    "   - Chaque balle a un centre $ U $, qui est un sommet du graphe. À partir de ce centre, la brûlure se propage jusqu’à une profondeur $ r $.\n",
    "\n",
    "3. **Objectif** :\n",
    "   - Trouver un ensemble de balles ($ U_i, r_i $) qui couvrent **tout le graphe**.\n",
    "   - Chaque sommet du graphe doit être brûlé par au moins une balle.\n",
    "\n",
    "4. **Contraintes** :\n",
    "   - Les **rayons des balles doivent être différents**.\n",
    "   - Toutes les combinaisons possibles de balles (centres et rayons) doivent être explorées pour garantir que le graphe est entièrement couvert.\n",
    "\n",
    "5. **Propagation de la brûlure** :\n",
    "   - La propagation de la brûlure à une profondeur $ r $ peut être simulée par un parcours en largeur (BFS) depuis le sommet $ U $, en limitant la profondeur de l’exploration à $ r $."
   ]
  },
  {
   "cell_type": "markdown",
   "metadata": {},
   "source": [
    "---"
   ]
  },
  {
   "cell_type": "markdown",
   "metadata": {},
   "source": [
    "n <- nombre de sommet dans le graphe\n",
    "r <- math.ceil(math.sqrt(n))\n",
    "s <- sommet ayant le max de voisins pour commencer\n",
    "\n",
    "tant que graphe non brulé :\n",
    "    bruler graphe depuis sommet s avec rayon r\n",
    "    si tout graphe est brulé :\n",
    "        retourner (s,r)\n",
    "    sinon :\n",
    "        stocker dans la liste (s,r)\n",
    "        bruler graphe depuis sommet s avec rayon r\n",
    "        r <- r-1\n",
    "        sb_base <- calculer nombre sommet non brulé\n",
    "        pour tout sommet u non brulés :\n",
    "            bruler graphe depuis u avec rayon r\n",
    "            sb <- calculer nombre sommet non brulé associé au sommet u\n",
    "            si tout graphe est brulé :\n",
    "                r <- r-1\n",
    "            sinon si sb < sb_base :\n",
    "                sb_base <- sb\n",
    "                u_base <- u"
   ]
  },
  {
   "cell_type": "code",
   "execution_count": 44,
   "metadata": {},
   "outputs": [],
   "source": [
    "def bruler(graphe, u, r):\n",
    "    \"\"\"\n",
    "    Effectue une BFS depuis le sommet u en limitant la profondeur à r.\n",
    "    Retourne l'ensemble des sommets brûlés (atteints).\n",
    "    \"\"\"\n",
    "    visited = {u}\n",
    "    queue = deque([(u, 0)])  # (sommet, profondeur)\n",
    "    while queue:\n",
    "        current, depth = queue.popleft()\n",
    "        if depth < r:\n",
    "            for neighbor in graphe.get(current, []):\n",
    "                if neighbor not in visited:\n",
    "                    visited.add(neighbor)\n",
    "                    queue.append((neighbor, depth + 1))\n",
    "    return visited"
   ]
  },
  {
   "cell_type": "code",
   "execution_count": 45,
   "metadata": {},
   "outputs": [],
   "source": [
    "def couverture_balle(graphe):\n",
    "    \"\"\"\n",
    "    Cherche une séquence de balles (centre, rayon) qui couvre entièrement le graphe.\n",
    "    \n",
    "    Contraintes :\n",
    "      - Les rayons possibles sont 1, 2, ..., ⌈√n⌉ où n = nombre de sommets.\n",
    "      - Un même rayon ne peut être utilisé qu'une seule fois dans une solution.\n",
    "      - On explore d'abord les grandes valeurs de rayon (pour potentiellement réduire\n",
    "        rapidement le nombre de balles et/ou le rayon maximal utilisé).\n",
    "      \n",
    "    Retourne la séquence des balles (centre, rayon) de la solution trouvée.\n",
    "    \"\"\"\n",
    "\n",
    "    n = len(graphe)\n",
    "    V = list(graphe.keys())\n",
    "    best_sequence = None\n",
    "    best_max_r = float('inf')\n",
    "    best_num_balls = float('inf')\n",
    "    max_rayon_possible = math.ceil(math.sqrt(n))\n",
    "    #max_rayon_possible = round(math.sqrt(n))\n",
    "    \n",
    "    # File de priorité (heap) avec pour chaque état :\n",
    "    # (heuristique, rayon_max_actuel, nombre_de_balles, sommets_brulés, séquence, rayons_utilisés)\n",
    "    heap = []\n",
    "    heapq.heappush(heap, (0, 0, 0, set(), [], set()))\n",
    "    \n",
    "    # Dictionnaire de mémorisation pour éviter de revisiter des états moins optimaux\n",
    "    memo = defaultdict(lambda: (float('inf'), float('inf')))\n",
    "    \n",
    "    while heap:\n",
    "        heur, current_max_r, current_num, brules, seq, used_r = heapq.heappop(heap)\n",
    "        \n",
    "        # Élagage : si l'état courant est moins bon que la meilleure solution trouvée, on passe\n",
    "        # On passe cette branche si l'on sait déjà qu'elle est moins bonne que la meilleure solution trouvée\n",
    "        if current_max_r > best_max_r or (current_max_r == best_max_r and current_num >= best_num_balls):\n",
    "            continue\n",
    "        \n",
    "        # Si tous les sommets sont brûlés, on met à jour la meilleure solution\n",
    "        if len(brules) == n:\n",
    "            if current_max_r < best_max_r or (current_max_r == best_max_r and current_num < best_num_balls):\n",
    "                best_max_r, best_num_balls, best_sequence = current_max_r, current_num, seq\n",
    "            continue\n",
    "        \n",
    "        # Pour chaque sommet non brûlé, on essaie de l'étendre avec différents rayons\n",
    "        for v in V:\n",
    "            if v not in brules:\n",
    "                # On ne considère pas un rayon supérieur à celui maximum autorisé\n",
    "                # ni supérieur à best_max_r (pour rester dans une solution potentiellement optimale)\n",
    "                max_possible_r = min(max_rayon_possible, best_max_r)\n",
    "                # On explore les grands rayons en premier\n",
    "                for r in range(max_possible_r - 1, -1, -1): # source de problèèèèèmes\n",
    "                    # faire un vecteur de rayons utilisés\n",
    "                    # used_r = [0 for _ in range(max_rayon_possible + 1)]\n",
    "                    # used_r = [1,1,0,1]\n",
    "                    if r in used_r:\n",
    "                        continue  # Ce rayon a déjà été utilisé dans la séquence courante\n",
    "                    \n",
    "                    # Calcul à la demande des sommets brûlés par la balle (v, r)\n",
    "                    burned_with_ball = bruler(graphe, v, r)\n",
    "                    nouveaux_brules = brules | burned_with_ball\n",
    "                    new_max_r = max(current_max_r, r)\n",
    "                    new_num = current_num + 1\n",
    "                    \n",
    "                    # Clé pour mémorisation : combinaison des sommets brûlés et des rayons utilisés\n",
    "                    key = (frozenset(nouveaux_brules), frozenset(used_r | {r}))\n",
    "                    if (new_max_r, new_num) >= memo[key]:\n",
    "                        continue\n",
    "                    memo[key] = (new_max_r, new_num)\n",
    "                    \n",
    "                    # Heuristique : rayon maximal utilisé + fraction des sommets restants\n",
    "                    # l'algorithme donne plus de poids à la minimisation du rayon maximal, mais prend aussi en compte la progression.\n",
    "                    remaining = n - len(nouveaux_brules)\n",
    "                    heuristic = new_max_r + (remaining / n)\n",
    "                    heapq.heappush(heap, (heuristic, new_max_r, new_num, nouveaux_brules, seq + [(v, r)], used_r | {r}))\n",
    "    \n",
    "    \n",
    "    # Optionnel : trier la séquence par rayon décroissant (similaire à la version initiale)\n",
    "    res = sorted(best_sequence, key=lambda x: x[1], reverse=True)\n",
    "    res = [(center, rayon + 1) for center, rayon in res]\n",
    "    return res\n"
   ]
  },
  {
   "cell_type": "code",
   "execution_count": null,
   "metadata": {},
   "outputs": [],
   "source": [
    "def couverture_balle_zero_un(graphe):\n",
    "    \"\"\"\n",
    "    Cherche une séquence de balles (centre, rayon) qui couvre entièrement le graphe.\n",
    "    \n",
    "    Contraintes :\n",
    "      - Les rayons possibles sont 1, 2, ..., ⌈√n⌉ où n = nombre de sommets.\n",
    "      - Un même rayon ne peut être utilisé qu'une seule fois dans une solution.\n",
    "      - On explore d'abord les grandes valeurs de rayon (pour potentiellement réduire\n",
    "        rapidement le nombre de balles et/ou le rayon maximal utilisé).\n",
    "      \n",
    "    Retourne la séquence des balles (centre, rayon) de la solution trouvée.\n",
    "    \"\"\"\n",
    "\n",
    "    n = len(graphe)\n",
    "    V = list(graphe.keys())\n",
    "    best_sequence = None\n",
    "    best_max_r = float('inf')\n",
    "    best_num_balls = float('inf')\n",
    "    max_rayon_possible = math.ceil(math.sqrt(n))\n",
    "    #max_rayon_possible = round(math.sqrt(n))\n",
    "    \n",
    "    # File de priorité (heap) avec pour chaque état :\n",
    "    # (heuristique, rayon_max_actuel, nombre_de_balles, sommets_brulés, séquence, rayons_utilisés)\n",
    "    heap = []\n",
    "    initial_used_r = [0] * max_rayon_possible\n",
    "    heapq.heappush(heap, (0, 0, 0, set(), [], initial_used_r))\n",
    "    \n",
    "    # Dictionnaire de mémorisation pour éviter de revisiter des états moins optimaux\n",
    "    memo = defaultdict(lambda: (float('inf'), float('inf')))\n",
    "    \n",
    "    while heap:\n",
    "        heur, current_max_r, current_num, brules, seq, used_r = heapq.heappop(heap)\n",
    "        \n",
    "        # Élagage : si l'état courant est moins bon que la meilleure solution trouvée, on passe\n",
    "        # On passe cette branche si l'on sait déjà qu'elle est moins bonne que la meilleure solution trouvée\n",
    "        if current_max_r > best_max_r or (current_max_r == best_max_r and current_num >= best_num_balls):\n",
    "            continue\n",
    "        \n",
    "        # Si tous les sommets sont brûlés, on met à jour la meilleure solution\n",
    "        if len(brules) == n:\n",
    "            if current_max_r < best_max_r or (current_max_r == best_max_r and current_num < best_num_balls):\n",
    "                best_max_r, best_num_balls, best_sequence = current_max_r, current_num, seq\n",
    "            continue\n",
    "        \n",
    "        # Pour chaque sommet non brûlé, on essaie de l'étendre avec différents rayons\n",
    "        for v in V:\n",
    "            if v not in brules:\n",
    "                # On ne considère pas un rayon supérieur à celui maximum autorisé\n",
    "                # ni supérieur à best_max_r (pour rester dans une solution potentiellement optimale)\n",
    "                max_possible_r = min(max_rayon_possible, best_max_r)\n",
    "                # On explore les grands rayons en premier\n",
    "                for r in range(max_possible_r, 0, -1):\n",
    "                    if used_r[r-1]:\n",
    "                        continue  # Ce rayon a déjà été utilisé dans la séquence courante\n",
    "                    \n",
    "                    # Calcul à la demande des sommets brûlés par la balle (v, r)\n",
    "                    burned_with_ball = bruler(graphe, v, r)\n",
    "                    nouveaux_brules = brules | burned_with_ball\n",
    "                    new_max_r = max(current_max_r, r)\n",
    "                    new_num = current_num + 1\n",
    "                    \n",
    "                    # Clé pour mémorisation : combinaison des sommets brûlés et des rayons utilisés\n",
    "                    key = (frozenset(nouveaux_brules), frozenset(used_r | {r}))\n",
    "                    if (new_max_r, new_num) >= memo[key]:\n",
    "                        continue\n",
    "                    memo[key] = (new_max_r, new_num)\n",
    "                    \n",
    "                    # Heuristique : rayon maximal utilisé + fraction des sommets restants\n",
    "                    # l'algorithme donne plus de poids à la minimisation du rayon maximal, mais prend aussi en compte la progression.\n",
    "                    remaining = n - len(nouveaux_brules)\n",
    "                    heuristic = new_max_r + (remaining / n)\n",
    "                    heapq.heappush(heap, (heuristic, new_max_r, new_num, nouveaux_brules, seq + [(v, r)], used_r | {r}))\n",
    "    \n",
    "    \n",
    "    # Optionnel : trier la séquence par rayon décroissant (similaire à la version initiale)\n",
    "    res = sorted(best_sequence, key=lambda x: x[1], reverse=True)\n",
    "    res = [(center, rayon + 1) for center, rayon in res]\n",
    "    return res\n"
   ]
  },
  {
   "cell_type": "code",
   "execution_count": 54,
   "metadata": {},
   "outputs": [
    {
     "data": {
      "text/plain": [
       "[(6, 3), (2, 2), (0, 1)]"
      ]
     },
     "execution_count": 54,
     "metadata": {},
     "output_type": "execute_result"
    }
   ],
   "source": [
    "sequence_opt = couverture_balle(graphe)\n",
    "cout_bb = max([rayon for centre, rayon in sequence_opt])\n",
    "\n",
    "sequence_opt"
   ]
  },
  {
   "cell_type": "code",
   "execution_count": null,
   "metadata": {},
   "outputs": [],
   "source": [
    "visualiser_graphe_par_etape(graphe, [centre for centre, rayon in df.iloc[num][\"Couverture des balles\"]])\n"
   ]
  },
  {
   "cell_type": "code",
   "execution_count": null,
   "metadata": {},
   "outputs": [],
   "source": [
    "def couverture_balle_timing(graphe):\n",
    "    \"\"\"\n",
    "    Retourne la séquence finale (liste des couples (sommet, rayon+1)) et\n",
    "    une liste 'time_data' contenant tous les états candidats rencontrés durant l'exécution.\n",
    "    \n",
    "    Chaque enregistrement de 'time_data' est un tuple composé de :\n",
    "      - Le temps (en secondes) écoulé depuis le début.\n",
    "      - Le rayon maximum (current_max_r) pour cet état.\n",
    "      - Le sommet actuellement utilisé (source de feu) pour cet état.\n",
    "      - La séquence complète des coups (c'est-à-dire la liste des (sommet, rayon)) jusqu'à cet état.\n",
    "    \"\"\"\n",
    "    start_time = time.time()\n",
    "    time_data = []  # on va y enregistrer tous les états candidats\n",
    "    n = len(graphe)\n",
    "    V = list(graphe.keys())\n",
    "    \n",
    "    best_sequence = None\n",
    "    best_max_r = float('inf')\n",
    "    best_num_balls = float('inf')\n",
    "    max_rayon_possible = math.ceil(math.sqrt(n))\n",
    "    \n",
    "    # Initialisation de la file de priorité.\n",
    "    # Chaque élément est un tuple : (heuristique, current_max_r, current_num, brules, seq, used_r)\n",
    "    heap = []\n",
    "    heapq.heappush(heap, (0, 0, 0, set(), [], set()))\n",
    "    memo = defaultdict(lambda: (float('inf'), float('inf')))\n",
    "    \n",
    "    while heap:\n",
    "        heur, current_max_r, current_num, brules, seq, used_r = heapq.heappop(heap)\n",
    "        current_time = time.time() - start_time\n",
    "        \n",
    "        # Enregistrement de l'état courant (celui que l'on vient de dépiler) :\n",
    "        current_state_vertex = seq[-1][0] if seq else None\n",
    "        time_data.append((current_time, current_max_r, current_state_vertex))\n",
    "        \n",
    "        # On abandonne cette branche si on sait déjà qu'elle est moins bonne que la meilleure solution connue.\n",
    "        if current_max_r > best_max_r or (current_max_r == best_max_r and current_num >= best_num_balls):\n",
    "            continue\n",
    "        \n",
    "        # Si l'état courant correspond à une solution complète (tous les sommets brûlés),\n",
    "        # on met à jour la solution optimale (mais on continue d'enregistrer l'état)\n",
    "        if len(brules) == n:\n",
    "            if current_max_r < best_max_r or (current_max_r == best_max_r and current_num < best_num_balls):\n",
    "                best_max_r, best_num_balls, best_sequence = current_max_r, current_num, seq\n",
    "            # Même si c'est une solution complète, on continue l'exploration (pour enregistrer tous les états)\n",
    "            continue\n",
    "        \n",
    "        # Exploration des prochaines possibilités\n",
    "        for v in V:\n",
    "            if v not in brules:\n",
    "                max_possible_r = min(max_rayon_possible, best_max_r)\n",
    "                for r in range(max_possible_r - 1, -1, -1):\n",
    "                    if r in used_r:\n",
    "                        continue\n",
    "\n",
    "                    burned_with_ball = bruler(graphe, v, r)  # Assurez-vous que 'bruler' est définie et retourne un ensemble de sommets\n",
    "                    nouveaux_brules = brules | burned_with_ball\n",
    "                    new_max_r = max(current_max_r, r)\n",
    "                    new_num = current_num + 1\n",
    "\n",
    "                    key = (frozenset(nouveaux_brules), frozenset(used_r | {r}))\n",
    "                    \n",
    "                    if (new_max_r, new_num) >= memo[key]:\n",
    "                        continue\n",
    "                    memo[key] = (new_max_r, new_num)\n",
    "                    \n",
    "                    # Enregistrement de l'état candidat généré juste avant de l'ajouter à la file\n",
    "                    candidate_time = time.time() - start_time\n",
    "                    candidate_seq = seq + [(v, r)]\n",
    "                    time_data.append((candidate_time, new_max_r, v))\n",
    "                    \n",
    "                    remaining = n - len(nouveaux_brules)\n",
    "                    heuristic = new_max_r + (remaining / n)\n",
    "                    heapq.heappush(heap, (heuristic, new_max_r, new_num, nouveaux_brules, candidate_seq, used_r | {r}))\n",
    "    \n",
    "    final_time = time.time() - start_time\n",
    "    # Enregistrement final de l'état optimal (s'il existe)\n",
    "    final_vertex = best_sequence[-1][0] if best_sequence and len(best_sequence) > 0 else None\n",
    "    time_data.append((final_time, best_max_r, final_vertex))\n",
    "    \n",
    "    if best_sequence is None:\n",
    "        return [], time_data\n",
    "    \n",
    "    # On retourne la séquence finale (en ajustant le rayon si nécessaire) et tous les enregistrements.\n",
    "    res = [(center, rayon + 1) for center, rayon in best_sequence]\n",
    "    return res, time_data\n"
   ]
  },
  {
   "cell_type": "code",
   "execution_count": null,
   "metadata": {},
   "outputs": [],
   "source": [
    "centres_rayons, time_data = couverture_balle_timing(graphe)\n",
    "#cout_bb = max([rayon for centre, rayon in sequence_opt])\n",
    "\n",
    "centres_rayons"
   ]
  },
  {
   "cell_type": "code",
   "execution_count": null,
   "metadata": {},
   "outputs": [],
   "source": [
    "sequence = [centre for centre, rayon in centres_rayons]\n",
    "data = [(t, burning, balles) for t, burning, balles in time_data if balles in sequence]\n",
    "\n",
    "plt.figure(figsize=(20, 5))\n",
    "\n",
    "for centre in set(balles for _, _, balles in data):\n",
    "    plt.plot(\n",
    "        [t for t, burning, balles in data if balles == centre],\n",
    "        [burning for t, burning, balles in data if balles == centre],\n",
    "        label=f\"Ballon {centre}\"\n",
    "    )\n",
    "\n",
    "plt.xlabel(\"Temps d'exécution (s)\")\n",
    "plt.ylabel(\"Burning number\")\n",
    "plt.legend()\n",
    "plt.grid(True)\n",
    "plt.show()"
   ]
  },
  {
   "cell_type": "code",
   "execution_count": null,
   "metadata": {},
   "outputs": [],
   "source": [
    "# Création d'un dictionnaire pour regrouper les données par \"balles\"\n",
    "grouped_data = {}\n",
    "for t, burning, balles, l in time_data:\n",
    "    if (balles not in grouped_data):\n",
    "        grouped_data[balles] = {'time': [], 'burning': []}\n",
    "    grouped_data[balles]['time'].append(t)\n",
    "    grouped_data[balles]['burning'].append(burning)\n",
    "\n",
    "# Tracé des courbes pour chaque groupe\n",
    "plt.figure(figsize=(12, 6))\n",
    "for balles, data in grouped_data.items():\n",
    "    plt.plot(data['time'], data['burning'], 'o-', label=f\"Balles : {balles}\")\n",
    "\n",
    "plt.xlabel(\"Temps d'exécution (s)\")\n",
    "plt.ylabel(\"Burning number\")\n",
    "plt.legend()\n",
    "plt.grid(True)\n",
    "plt.show()"
   ]
  },
  {
   "cell_type": "code",
   "execution_count": null,
   "metadata": {},
   "outputs": [],
   "source": []
  },
  {
   "cell_type": "markdown",
   "metadata": {},
   "source": [
    "- imposer un limite de 10s -> faire la recherche pendant max 10s\n",
    "- tester pour diff periode de temps, arreter après avoir passer cette periode de temps, et voir au bout de quel moment arrive à un solution optimale (ou meme comparer la qté de a solution)\n",
    "\n",
    "=> figure : \n",
    "- x : periode d'exec\n",
    "- y : burning number\n",
    "- clé : diff graphe\n",
    "\n",
    "\n",
    "(HPC serveur frontal de l'isima => faire assez de calcule en paralelle qu'on veux)"
   ]
  },
  {
   "cell_type": "markdown",
   "metadata": {},
   "source": [
    "- bruler le graphe à un certain rayon et calculer ça connectivité \n",
    "- calculer le nbr de composant connexe ( à chercher ça def)\n",
    "- diametre = le nbr de sommet entre les deux sommet les plus éloigné du graphe"
   ]
  },
  {
   "cell_type": "markdown",
   "metadata": {},
   "source": [
    "objectif : relaxation linéaire pour les petits graphes"
   ]
  },
  {
   "cell_type": "code",
   "execution_count": null,
   "metadata": {},
   "outputs": [],
   "source": [
    "visualiser_graphe_par_etape(graphe, [3, 9, 13, 15])"
   ]
  }
 ],
 "metadata": {
  "kernelspec": {
   "display_name": ".venv",
   "language": "python",
   "name": "python3"
  },
  "language_info": {
   "codemirror_mode": {
    "name": "ipython",
    "version": 3
   },
   "file_extension": ".py",
   "mimetype": "text/x-python",
   "name": "python",
   "nbconvert_exporter": "python",
   "pygments_lexer": "ipython3",
   "version": "3.11.6"
  }
 },
 "nbformat": 4,
 "nbformat_minor": 2
}
