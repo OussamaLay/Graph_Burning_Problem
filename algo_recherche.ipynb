{
 "cells": [
  {
   "cell_type": "code",
   "execution_count": 297,
   "metadata": {},
   "outputs": [],
   "source": [
    "import random\n",
    "import math\n",
    "import heapq\n",
    "import time\n",
    "import matplotlib.pyplot as plt\n",
    "from collections import deque, defaultdict"
   ]
  },
  {
   "cell_type": "code",
   "execution_count": 298,
   "metadata": {},
   "outputs": [],
   "source": [
    "import nbimporter\n",
    "from graph_utilities import calculer_voisinage_etendu\n",
    "from graph_utilities import lire_graphe, afficher_graphe, visualiser_graphe_par_etape\n",
    "from graph_utilities import generate_cyclic_graph, generate_chain_graph, generate_spider_graph"
   ]
  },
  {
   "cell_type": "markdown",
   "metadata": {},
   "source": [
    "prends en paramètre un graphe dans un état (càd avec des sommets brulés) et retourne le graphe dans l'état suivante"
   ]
  },
  {
   "cell_type": "markdown",
   "metadata": {},
   "source": [
    "test_but : vérifie si tout les sommets sont brulées"
   ]
  },
  {
   "cell_type": "code",
   "execution_count": 299,
   "metadata": {},
   "outputs": [],
   "source": [
    "def test_but(etat_actuel):\n",
    "    \"\"\"\n",
    "    Vérifie si tous les sommets sont brûlés.\n",
    "    \"\"\"\n",
    "    return all(val == 1 for val in etat_actuel.values())"
   ]
  },
  {
   "cell_type": "markdown",
   "metadata": {},
   "source": [
    "## 1ère méthode"
   ]
  },
  {
   "cell_type": "code",
   "execution_count": 300,
   "metadata": {},
   "outputs": [],
   "source": [
    "def choisir_sommet_aleatoire(etat_actuel):\n",
    "    sommets_non_brules = [sommet for sommet, etat in etat_actuel.items() if etat == 0]\n",
    "    return random.choice(sommets_non_brules) if sommets_non_brules else None\n"
   ]
  },
  {
   "cell_type": "code",
   "execution_count": 301,
   "metadata": {},
   "outputs": [],
   "source": [
    "def successeurs_p(graphe, etat_actuel):\n",
    "    \"\"\"\n",
    "    Génère l'état suivant en propageant la brûlure aux voisins des sommets déjà brûlés.\n",
    "    :param graphe: Le graphe sous forme de dictionnaire.\n",
    "    :param etat_actuel: Dictionnaire contenant l'état actuel des sommets (brûlés ou non brûlés).\n",
    "    :return: Nouveau dictionnaire représentant l'état des sommets après propagation.\n",
    "    \"\"\"\n",
    "\n",
    "    brulage = False  # Indique si un sommet a été brûlé dans cet appel de la fonction\n",
    "\n",
    "    # Copier l'état actuel pour générer le nouvel état\n",
    "    nouvel_etat = etat_actuel.copy()\n",
    "\n",
    "    # Récupérer tous les sommets brûlés\n",
    "    sommets_brules = [sommet for sommet, etat in nouvel_etat.items() if etat == 1]\n",
    "\n",
    "    # Propager la brûlure aux voisins des sommets brûlés\n",
    "    for sommet in sommets_brules:\n",
    "        for voisin in graphe.get(sommet, []):  # Obtenir les voisins dans la liste d'adjacence\n",
    "            if nouvel_etat[voisin] == 0:  # Brûler uniquement les sommets non brûlés\n",
    "                nouvel_etat[voisin] = 1\n",
    "                brulage = True\n",
    "\n",
    "    return nouvel_etat, brulage"
   ]
  },
  {
   "cell_type": "code",
   "execution_count": 302,
   "metadata": {},
   "outputs": [],
   "source": [
    "def choisir_sommet_a_bruler(graphe, etat_actuel):\n",
    "    \"\"\"\n",
    "    Sélectionne un sommet non brûlé ayant le maximum de voisins.\n",
    "    \n",
    "    :param graphe: Le graphe sous forme de dictionnaire (liste d'adjacence).\n",
    "    :param etat_actuel: Dictionnaire contenant l'état actuel des sommets.\n",
    "    :return: Le sommet non brûlé avec le maximum de voisins, ou None si aucun sommet disponible.\n",
    "    \"\"\"\n",
    "    # Trouver les sommets non brûlés\n",
    "    sommets_non_brules = [sommet for sommet, etat in etat_actuel.items() if etat == 0]\n",
    "    \n",
    "    if not sommets_non_brules:\n",
    "        # Aucun sommet non brûlé\n",
    "        return None\n",
    "\n",
    "    # Trouver le sommet avec le maximum de voisins\n",
    "    sommet_max_voisins = max(sommets_non_brules, key=lambda sommet: len(graphe.get(sommet, [])))\n",
    "\n",
    "    return sommet_max_voisins\n"
   ]
  },
  {
   "cell_type": "code",
   "execution_count": 303,
   "metadata": {},
   "outputs": [],
   "source": [
    "def recherche_profondeur(graphe):\n",
    "    \"\"\"\n",
    "    Algorithme générique de recherche pour brûler un graphe en choisissant un sommet par étape.\n",
    "    :param graphe: Le graphe sous forme de dictionnaire (liste d'adjacence).\n",
    "    :param etat_initial: Dictionnaire représentant l'état initial des sommets (brûlés ou non brûlés).\n",
    "    :param successeurs: Fonction qui génère l'état suivant (propagation).\n",
    "    :param test_but: Fonction qui vérifie si tous les sommets sont brûlés.\n",
    "    :return: Chemin (liste des états successifs), sommets brûlés activement à chaque étape, et coût total.\n",
    "    \"\"\"\n",
    "    # Initialisation : créer la liste des états à traiter\n",
    "    etat_initial = {sommet: 0 for sommet in graphe}\n",
    "    etats_a_traiter = deque([{\"etat\": etat_initial, \"cout\": 1, \"brules_actifs\": []}])\n",
    "\n",
    "    while etats_a_traiter:\n",
    "        # Extraire un état\n",
    "        noeud = etats_a_traiter.pop()\n",
    "\n",
    "        noeud[\"etat\"], brulage = successeurs_p(graphe, noeud[\"etat\"])\n",
    "\n",
    "        if brulage:\n",
    "            noeud[\"cout\"] += 1  # Chaque étape coûte 1\n",
    "\n",
    "        # Vérifier si tous les sommets sont brûlés\n",
    "        if test_but(noeud[\"etat\"]):\n",
    "            return noeud[\"brules_actifs\"], noeud[\"cout\"]\n",
    "\n",
    "        # Choisir un nouveau sommet à brûler activement\n",
    "        nouveau_sommet = choisir_sommet_a_bruler(graphe, noeud[\"etat\"])\n",
    "        #nouveau_sommet = choisir_sommet_aleatoire(noeud[\"etat\"])\n",
    "        if nouveau_sommet is None:\n",
    "            # Si aucun sommet à brûler n'est disponible, retourner l'état actuel\n",
    "            continue\n",
    "\n",
    "        # Copier l'état courant\n",
    "        etat_suivant = noeud[\"etat\"].copy()\n",
    "\n",
    "        # Marquer le sommet comme \"brûlé\"\n",
    "        etat_suivant[nouveau_sommet] = 1\n",
    "\n",
    "        # Ajouter le nouvel état à la liste des états à traiter\n",
    "        etats_a_traiter.append({\n",
    "            \"etat\": etat_suivant,\n",
    "            \"cout\": noeud[\"cout\"],  # Chaque étape coûte 1\n",
    "            \"brules_actifs\": noeud[\"brules_actifs\"] + [nouveau_sommet]\n",
    "        })\n",
    "\n",
    "    # Si aucun état final n'est trouvé\n",
    "    return [], float(\"inf\")\n"
   ]
  },
  {
   "cell_type": "markdown",
   "metadata": {},
   "source": [
    "etape 1 :\n",
    "\n",
    "parcours en largeur : popleft de la liste des états à traiter\n",
    "\n",
    "parcours en largeur itéré : livre artificial intelligence section 3.4.4 et 3.4.5\n",
    "\n",
    "\n",
    "etape 2 : couverture des balles\n",
    "\n",
    "appliquer le A* dans le parcours"
   ]
  },
  {
   "cell_type": "markdown",
   "metadata": {},
   "source": [
    "bruler ce noeuds pendant un certain temps\n",
    "=> couverture par des balles\n",
    "\n",
    "l'ensemble des action : \n",
    "le cout : la taille de la grande balle\n",
    "fixer burning number dés le début (6)\n"
   ]
  },
  {
   "cell_type": "markdown",
   "metadata": {},
   "source": [
    "# 2éme méthode"
   ]
  },
  {
   "cell_type": "code",
   "execution_count": 304,
   "metadata": {},
   "outputs": [],
   "source": [
    "def propager(graphe, etat_actuel, cout_actuel):\n",
    "    \"\"\"\n",
    "    Propage la brûlure aux voisins des sommets déjà brûlés (un \"pas\" de propagation),\n",
    "    en incrémentant le coût à chaque fois qu'un nouveau sommet est enflammé.\n",
    "    \n",
    "    Retourne (nouvel_etat, cout_apres_propagation).\n",
    "    \"\"\"\n",
    "    nouvel_etat = etat_actuel.copy()\n",
    "    \n",
    "    # Récupérer tous les sommets brûlés\n",
    "    sommets_brules = [s for s, etat in nouvel_etat.items() if etat == 1]\n",
    "\n",
    "    # Propager la brûlure aux voisins\n",
    "    for sommet in sommets_brules:\n",
    "        for voisin in graphe.get(sommet, []):\n",
    "            if nouvel_etat[voisin] == 0:  # s’il n’était pas brûlé\n",
    "                nouvel_etat[voisin] = 1\n",
    "                #cout_actuel += 1  # Incrémenter le coût de propagation\n",
    "\n",
    "    return nouvel_etat, cout_actuel"
   ]
  },
  {
   "cell_type": "code",
   "execution_count": 305,
   "metadata": {},
   "outputs": [],
   "source": [
    "def successeurs(graphe, etat_actuel, cout_actuel):\n",
    "    \"\"\"\n",
    "    Génère TOUS les états possibles en allumant manuellement\n",
    "    chaque sommet non brûlé, puis en propageant le feu.\n",
    "    \n",
    "    Pour chacun, on renvoie le triplet (action, nouvel_etat, cout_action),\n",
    "    où:\n",
    "      - action       = le sommet qu'on a allumé\n",
    "      - nouvel_etat  = l'état après allumage + propagation\n",
    "      - cout_action  = le coût \"supplémentaire\" induit par cet allumage (et sa propagation)\n",
    "    \"\"\"\n",
    "    liste_succ = []\n",
    "    \n",
    "    # Pour chaque sommet non brûlé, on simule \"allumer ce sommet\"\n",
    "    for sommet in graphe:\n",
    "        if etat_actuel[sommet] == 0:\n",
    "            # 1) On copie l'état\n",
    "            nouvel_etat = etat_actuel.copy()\n",
    "            \n",
    "            # 3) On propage la brûlure (un \"pas\" de propagation)\n",
    "            nouvel_etat_propage, nouveau_cout = propager(graphe, nouvel_etat, cout_actuel)\n",
    "            \n",
    "            # 2) On allume manuellement ce sommet\n",
    "            nouvel_etat_propage[sommet] = 1\n",
    "            \n",
    "            # 4) Le \"coût d'action\" = la différence entre le coût après et avant\n",
    "            #    (autrement dit, combien on a dû payer en plus pour cet allumage + propagation)\n",
    "            #cout_action = nouveau_cout - cout_actuel\n",
    "            cout_action = 1\n",
    "            \n",
    "            # 5) On ajoute ce successeur à la liste\n",
    "            liste_succ.append( (sommet, nouvel_etat_propage, cout_action) )\n",
    "    \n",
    "    return liste_succ"
   ]
  },
  {
   "cell_type": "code",
   "execution_count": 306,
   "metadata": {},
   "outputs": [],
   "source": [
    "def recherche_largeur(graphe):\n",
    "    \"\"\"\n",
    "    Traduit directement le pseudo-code \"Algorithme 1\" en Python,\n",
    "    en utilisant la fonction 'successeurs' (qui retourne des triplets)\n",
    "    et 'test_but'.\n",
    "    \n",
    "    :param graphe:        dictionnaire {sommet: [voisins]}\n",
    "    :param etat_initial:  dictionnaire {sommet: 0/1}\n",
    "    :param successeurs:   fonction(etat, cout) -> liste de (action, etat_suivant, cout_action)\n",
    "    :param test_but:      fonction(etat) -> bool\n",
    "    :return: (etat_solution, chemin_actions, cout_total) \n",
    "             ou (None, [], float(\"inf\")) si on ne trouve pas de solution\n",
    "    \"\"\"\n",
    "    etat_initial = {sommet: 0 for sommet in graphe}\n",
    "\n",
    "    # 1) Construire le nœud initial = (état=etat_initial, chemin=[], coût=0)\n",
    "    noeud_initial = {\n",
    "        \"etat\": etat_initial,\n",
    "        \"chemin\": [],\n",
    "        \"cout\": 0\n",
    "    }\n",
    "    \n",
    "    # 2) Mettre le nœud initial dans une file FIFO\n",
    "    file = deque([noeud_initial])\n",
    "    \n",
    "    # 3) Tant que la file n'est pas vide\n",
    "    while file:\n",
    "        noeud = file.popleft()\n",
    "        etat_courant = noeud[\"etat\"]\n",
    "        chemin_courant = noeud[\"chemin\"]\n",
    "        cout_courant = noeud[\"cout\"]\n",
    "        \n",
    "        # -- Test but --\n",
    "        if test_but(etat_courant):\n",
    "            return etat_courant, chemin_courant, cout_courant\n",
    "        \n",
    "        # -- Parcourir tous les successeurs --\n",
    "        #    successeurs(...) doit retourner [(action, etat_suivant, cout_action), ...]\n",
    "        for (action, etat_suivant, cout_action) in successeurs(graphe, etat_courant, cout_courant):\n",
    "            # Nouveau coût\n",
    "            nouveau_cout = cout_courant + cout_action\n",
    "            # Nouveau chemin\n",
    "            nouveau_chemin = chemin_courant + [action]\n",
    "            \n",
    "            # Créer le noeud successeur\n",
    "            noeud_suivant = {\n",
    "                \"etat\": etat_suivant,\n",
    "                \"chemin\": nouveau_chemin,\n",
    "                \"cout\": nouveau_cout\n",
    "            }\n",
    "            # L'insérer dans la file\n",
    "            file.append(noeud_suivant)\n",
    "    \n",
    "    # 4) Si on sort de la boucle, pas de solution trouvée\n",
    "    return None, [], float(\"inf\")"
   ]
  },
  {
   "cell_type": "markdown",
   "metadata": {},
   "source": [
    "---"
   ]
  },
  {
   "cell_type": "markdown",
   "metadata": {},
   "source": [
    "### Suite"
   ]
  },
  {
   "cell_type": "code",
   "execution_count": 307,
   "metadata": {},
   "outputs": [],
   "source": [
    "# 10 sommets (3.16)\n",
    "#fichier = r'instances\\Stranke94\\Stranke94.mtx'\n",
    "\n",
    "# 29 sommets (5.38)\n",
    "#fichier = r'instances\\bn-mouse_visual-cortex_1\\bn-mouse_visual-cortex_1.mtx'\n",
    "\n",
    "# 34 sommets (5,83)\n",
    "fichier = r'instances\\karate\\karate.mtx'\n",
    "\n",
    "# 62 sommets (7.87)\n",
    "#fichier = r'instances\\dolphins\\dolphins.mtx'\n",
    "\n",
    "# 105 sommets (12.88)\n",
    "#fichier = r'instances\\polbooks\\polbooks.mtx'\n",
    "\n",
    "# 258 sommets (16.06)\n",
    "#fichier = r'instances\\sphere3\\sphere3.mtx'\n",
    "\n",
    "# 379 sommets (19.47)\n",
    "#fichier = r'instances\\ca-netscience\\ca-netscience.mtx'\n",
    "\n",
    "# 7057 sommets (84.005)\n",
    "#fichier = r'instances\\fb-pages-government\\fb-pages-government.mtx'\n",
    "\n",
    "# 11631 sommets (107.84)\n",
    "#fichier = r'instances\\web-wiki-crocodile\\web-wiki-crocodile.mtx'\n",
    "\n",
    "# 196 591 sommets (443.38)\n",
    "#fichier = r'instances\\loc-gowalla_edges\\loc-gowalla_edges.mtx'\n",
    "\n",
    "graphe = lire_graphe(fichier)"
   ]
  },
  {
   "cell_type": "code",
   "execution_count": 308,
   "metadata": {},
   "outputs": [],
   "source": [
    "# Graphe cyclique (4)\n",
    "#graphe = generate_cyclic_graph(16)\n",
    "\n",
    "# Graphe en chaîne (4)\n",
    "#graphe = generate_chain_graph(9)\n",
    "#graphe = generate_chain_graph(16)\n",
    "\n",
    "# Graphe en étoile/spider (4.58)\n",
    "#graphe = generate_spider_graph(0, leg_length=4, num_legs=5)"
   ]
  },
  {
   "cell_type": "code",
   "execution_count": 309,
   "metadata": {},
   "outputs": [
    {
     "name": "stdout",
     "output_type": "stream",
     "text": [
      "*********** Parcours en profondeur ***********\n",
      "Sommets brûlés à chaque étape: [34, 1, 17]\n",
      "Coût total: 3\n"
     ]
    }
   ],
   "source": [
    "sommets_actifs_p, cout = recherche_profondeur(graphe)\n",
    "\n",
    "print(\"*********** Parcours en profondeur ***********\")\n",
    "print(\"Sommets brûlés à chaque étape:\", sommets_actifs_p)\n",
    "print(\"Coût total:\", cout)"
   ]
  },
  {
   "cell_type": "code",
   "execution_count": 310,
   "metadata": {},
   "outputs": [
    {
     "name": "stdout",
     "output_type": "stream",
     "text": [
      "*********** Parcours en largeur ***********\n",
      "Sommets brûlés à chaque étape: [1, 33, 27]\n",
      "Coût total: 3\n"
     ]
    }
   ],
   "source": [
    "etat, sommets_actifs_l, cout = recherche_largeur(graphe)\n",
    "\n",
    "print(\"*********** Parcours en largeur ***********\")\n",
    "print(\"Sommets brûlés à chaque étape:\", sommets_actifs_l)\n",
    "print(\"Coût total:\", cout)"
   ]
  },
  {
   "cell_type": "markdown",
   "metadata": {},
   "source": [
    "dire un sommet va etre brulé au 3 tour par exemple\n",
    "notre solution (du 2eme algo) sera le  centre (sommet) de la boule ayant le rayon le plus grand"
   ]
  },
  {
   "cell_type": "markdown",
   "metadata": {},
   "source": [
    "# Couverture des balles"
   ]
  },
  {
   "cell_type": "markdown",
   "metadata": {},
   "source": [
    "### Définition clarifiée des balles :\n",
    "1. **Rayon de la balle** :\n",
    "   - Le rayon $ r $ détermine combien de niveaux de voisins (profondeur dans le graphe) la balle peut atteindre depuis son centre $ U $.\n",
    "   - Par exemple :\n",
    "     - Rayon 1 : Brûle uniquement les voisins directs de $ U $.\n",
    "     - Rayon 2 : Brûle les voisins de $ U $ et les voisins des voisins de $ U $.\n",
    "\n",
    "2. **Centre de la balle** :\n",
    "   - Chaque balle a un centre $ U $, qui est un sommet du graphe. À partir de ce centre, la brûlure se propage jusqu’à une profondeur $ r $.\n",
    "\n",
    "3. **Objectif** :\n",
    "   - Trouver un ensemble de balles ($ U_i, r_i $) qui couvrent **tout le graphe**.\n",
    "   - Chaque sommet du graphe doit être brûlé par au moins une balle.\n",
    "\n",
    "4. **Contraintes** :\n",
    "   - Les **rayons des balles doivent être différents**.\n",
    "   - Toutes les combinaisons possibles de balles (centres et rayons) doivent être explorées pour garantir que le graphe est entièrement couvert.\n",
    "\n",
    "5. **Propagation de la brûlure** :\n",
    "   - La propagation de la brûlure à une profondeur $ r $ peut être simulée par un parcours en largeur (BFS) depuis le sommet $ U $, en limitant la profondeur de l’exploration à $ r $."
   ]
  },
  {
   "cell_type": "markdown",
   "metadata": {},
   "source": [
    "---"
   ]
  },
  {
   "cell_type": "markdown",
   "metadata": {},
   "source": [
    "n <- nombre de sommet dans le graphe\n",
    "r <- math.ceil(math.sqrt(n))\n",
    "s <- sommet ayant le max de voisins pour commencer\n",
    "\n",
    "tant que graphe non brulé :\n",
    "    bruler graphe depuis sommet s avec rayon r\n",
    "    si tout graphe est brulé :\n",
    "        retourner (s,r)\n",
    "    sinon :\n",
    "        stocker dans la liste (s,r)\n",
    "        bruler graphe depuis sommet s avec rayon r\n",
    "        r <- r-1\n",
    "        sb_base <- calculer nombre sommet non brulé\n",
    "        pour tout sommet u non brulés :\n",
    "            bruler graphe depuis u avec rayon r\n",
    "            sb <- calculer nombre sommet non brulé associé au sommet u\n",
    "            si tout graphe est brulé :\n",
    "                r <- r-1\n",
    "            sinon si sb < sb_base :\n",
    "                sb_base <- sb\n",
    "                u_base <- u"
   ]
  },
  {
   "cell_type": "code",
   "execution_count": 311,
   "metadata": {},
   "outputs": [],
   "source": [
    "def bruler(graphe, u, r):\n",
    "    \"\"\"\n",
    "    Effectue une BFS depuis le sommet u en limitant la profondeur à r.\n",
    "    Retourne l'ensemble des sommets brûlés (atteints).\n",
    "    \"\"\"\n",
    "    visited = {u}\n",
    "    queue = deque([(u, 0)])  # (sommet, profondeur)\n",
    "    while queue:\n",
    "        current, depth = queue.popleft()\n",
    "        if depth < r:\n",
    "            for neighbor in graphe.get(current, []):\n",
    "                if neighbor not in visited:\n",
    "                    visited.add(neighbor)\n",
    "                    queue.append((neighbor, depth + 1))\n",
    "    return visited"
   ]
  },
  {
   "cell_type": "code",
   "execution_count": 312,
   "metadata": {},
   "outputs": [],
   "source": [
    "def couverture_balle(graphe):\n",
    "    \"\"\"\n",
    "    Cherche une séquence de balles (centre, rayon) qui couvre entièrement le graphe.\n",
    "    \n",
    "    Contraintes :\n",
    "      - Les rayons possibles sont 1, 2, ..., ⌈√n⌉ où n = nombre de sommets.\n",
    "      - Un même rayon ne peut être utilisé qu'une seule fois dans une solution.\n",
    "      - On explore d'abord les grandes valeurs de rayon (pour potentiellement réduire\n",
    "        rapidement le nombre de balles et/ou le rayon maximal utilisé).\n",
    "      \n",
    "    Retourne la séquence des balles (centre, rayon) de la solution trouvée.\n",
    "    \"\"\"\n",
    "\n",
    "    n = len(graphe)\n",
    "    V = list(graphe.keys())\n",
    "    best_sequence = None\n",
    "    best_max_r = float('inf')\n",
    "    best_num_balls = float('inf')\n",
    "    max_rayon_possible = math.ceil(math.sqrt(n))\n",
    "    #max_rayon_possible = round(math.sqrt(n))\n",
    "    \n",
    "    # File de priorité (heap) avec pour chaque état :\n",
    "    # (heuristique, rayon_max_actuel, nombre_de_balles, sommets_brulés, séquence, rayons_utilisés)\n",
    "    heap = []\n",
    "    heapq.heappush(heap, (0, 0, 0, set(), [], set()))\n",
    "    \n",
    "    # Dictionnaire de mémorisation pour éviter de revisiter des états moins optimaux\n",
    "    memo = defaultdict(lambda: (float('inf'), float('inf')))\n",
    "    \n",
    "    while heap:\n",
    "        heur, current_max_r, current_num, brules, seq, used_r = heapq.heappop(heap)\n",
    "        \n",
    "        # Élagage : si l'état courant est moins bon que la meilleure solution trouvée, on passe\n",
    "        # On passe cette branche si l'on sait déjà qu'elle est moins bonne que la meilleure solution trouvée\n",
    "        if current_max_r > best_max_r or (current_max_r == best_max_r and current_num >= best_num_balls):\n",
    "            continue\n",
    "        \n",
    "        # Si tous les sommets sont brûlés, on met à jour la meilleure solution\n",
    "        if len(brules) == n:\n",
    "            if current_max_r < best_max_r or (current_max_r == best_max_r and current_num < best_num_balls):\n",
    "                best_max_r, best_num_balls, best_sequence = current_max_r, current_num, seq\n",
    "            continue\n",
    "        \n",
    "        # Pour chaque sommet non brûlé, on essaie de l'étendre avec différents rayons\n",
    "        for v in V:\n",
    "            if v not in brules:\n",
    "                # On ne considère pas un rayon supérieur à celui maximum autorisé\n",
    "                # ni supérieur à best_max_r (pour rester dans une solution potentiellement optimale)\n",
    "                max_possible_r = min(max_rayon_possible, best_max_r)\n",
    "                # On explore les grands rayons en premier\n",
    "                for r in range(max_possible_r - 1, -1, -1): # source de problèèèèèmes\n",
    "                    # faire un vecteur de rayons utilisés\n",
    "                    # used_r = [0 for _ in range(max_rayon_possible + 1)]\n",
    "                    # used_r = [1,1,0,1]\n",
    "                    if r in used_r:\n",
    "                        continue  # Ce rayon a déjà été utilisé dans la séquence courante\n",
    "                    \n",
    "                    # Calcul à la demande des sommets brûlés par la balle (v, r)\n",
    "                    burned_with_ball = bruler(graphe, v, r)\n",
    "                    nouveaux_brules = brules | burned_with_ball\n",
    "                    new_max_r = max(current_max_r, r)\n",
    "                    new_num = current_num + 1\n",
    "                    \n",
    "                    # Clé pour mémorisation : combinaison des sommets brûlés et des rayons utilisés\n",
    "                    key = (frozenset(nouveaux_brules), frozenset(used_r | {r}))\n",
    "                    if (new_max_r, new_num) >= memo[key]:\n",
    "                        continue\n",
    "                    memo[key] = (new_max_r, new_num)\n",
    "                    \n",
    "                    # Heuristique : rayon maximal utilisé + fraction des sommets restants\n",
    "                    # l'algorithme donne plus de poids à la minimisation du rayon maximal, mais prend aussi en compte la progression.\n",
    "                    remaining = n - len(nouveaux_brules)\n",
    "                    heuristic = new_max_r + (remaining / n)\n",
    "                    heapq.heappush(heap, (heuristic, new_max_r, new_num, nouveaux_brules, seq + [(v, r)], used_r | {r}))\n",
    "    \n",
    "    \n",
    "    # Optionnel : trier la séquence par rayon décroissant (similaire à la version initiale)\n",
    "    res = sorted(best_sequence, key=lambda x: x[1], reverse=True)\n",
    "    res = [(center, rayon + 1) for center, rayon in res]\n",
    "    return res\n"
   ]
  },
  {
   "cell_type": "code",
   "execution_count": 313,
   "metadata": {},
   "outputs": [],
   "source": [
    "def couverture_balle_zero_un(graphe):\n",
    "    \"\"\"\n",
    "    Cherche une séquence de balles (centre, rayon) qui couvre entièrement le graphe.\n",
    "    \n",
    "    Contraintes :\n",
    "      - Les rayons possibles sont 1, 2, ..., ⌈√n⌉ où n = nombre de sommets.\n",
    "      - Un même rayon ne peut être utilisé qu'une seule fois dans une solution.\n",
    "      - On explore d'abord les grandes valeurs de rayon (pour potentiellement réduire\n",
    "        rapidement le nombre de balles et/ou le rayon maximal utilisé).\n",
    "      \n",
    "    Retourne la séquence des balles (centre, rayon) de la solution trouvée.\n",
    "    \"\"\"\n",
    "\n",
    "    n = len(graphe)\n",
    "    V = list(graphe.keys())\n",
    "    best_sequence = None\n",
    "    best_max_r = float('inf')\n",
    "    best_num_balls = float('inf')\n",
    "    max_rayon_possible = math.ceil(math.sqrt(n))\n",
    "    #max_rayon_possible = round(math.sqrt(n))\n",
    "    \n",
    "    # File de priorité (heap) avec pour chaque état :\n",
    "    # (heuristique, rayon_max_actuel, nombre_de_balles, sommets_brulés, séquence, rayons_utilisés)\n",
    "    heap = []\n",
    "    initial_used_r = [0] * max_rayon_possible\n",
    "    heapq.heappush(heap, (0, 0, 0, set(), [], initial_used_r))\n",
    "    \n",
    "    # Dictionnaire de mémorisation pour éviter de revisiter des états moins optimaux\n",
    "    memo = defaultdict(lambda: (float('inf'), float('inf')))\n",
    "    \n",
    "    while heap:\n",
    "        heur, current_max_r, current_num, brules, seq, used_r = heapq.heappop(heap)\n",
    "        \n",
    "        # Élagage : si l'état courant est moins bon que la meilleure solution trouvée, on passe\n",
    "        # On passe cette branche si l'on sait déjà qu'elle est moins bonne que la meilleure solution trouvée\n",
    "        if current_max_r > best_max_r or (current_max_r == best_max_r and current_num >= best_num_balls):\n",
    "            continue\n",
    "        \n",
    "        # Si tous les sommets sont brûlés, on met à jour la meilleure solution\n",
    "        if len(brules) == n:\n",
    "            if current_max_r < best_max_r or (current_max_r == best_max_r and current_num < best_num_balls):\n",
    "                best_max_r, best_num_balls, best_sequence = current_max_r, current_num, seq\n",
    "            continue\n",
    "        \n",
    "        # Pour chaque sommet non brûlé, on essaie de l'étendre avec différents rayons\n",
    "        for v in V:\n",
    "            if v not in brules:\n",
    "                # On ne considère pas un rayon supérieur à celui maximum autorisé\n",
    "                # ni supérieur à best_max_r (pour rester dans une solution potentiellement optimale)\n",
    "                max_possible_r = min(max_rayon_possible, best_max_r)\n",
    "                # On explore les grands rayons en premier\n",
    "                for r in range(max_possible_r, 0, -1):\n",
    "                    if used_r[r-1]:\n",
    "                        continue  # Ce rayon a déjà été utilisé dans la séquence courante\n",
    "                    \n",
    "                    # Calcul à la demande des sommets brûlés par la balle (v, r)\n",
    "                    burned_with_ball = bruler(graphe, v, r)\n",
    "                    nouveaux_brules = brules | burned_with_ball\n",
    "                    new_max_r = max(current_max_r, r)\n",
    "                    new_num = current_num + 1\n",
    "                    \n",
    "                    # Clé pour mémorisation : combinaison des sommets brûlés et des rayons utilisés\n",
    "                    key = (frozenset(nouveaux_brules), frozenset(used_r | {r}))\n",
    "                    if (new_max_r, new_num) >= memo[key]:\n",
    "                        continue\n",
    "                    memo[key] = (new_max_r, new_num)\n",
    "                    \n",
    "                    # Heuristique : rayon maximal utilisé + fraction des sommets restants\n",
    "                    # l'algorithme donne plus de poids à la minimisation du rayon maximal, mais prend aussi en compte la progression.\n",
    "                    remaining = n - len(nouveaux_brules)\n",
    "                    heuristic = new_max_r + (remaining / n)\n",
    "                    heapq.heappush(heap, (heuristic, new_max_r, new_num, nouveaux_brules, seq + [(v, r)], used_r | {r}))\n",
    "    \n",
    "    \n",
    "    # Optionnel : trier la séquence par rayon décroissant (similaire à la version initiale)\n",
    "    res = sorted(best_sequence, key=lambda x: x[1], reverse=True)\n",
    "    res = [(center, rayon + 1) for center, rayon in res]\n",
    "    return res\n"
   ]
  },
  {
   "cell_type": "code",
   "execution_count": 314,
   "metadata": {},
   "outputs": [
    {
     "data": {
      "text/plain": [
       "[(32, 3), (17, 1)]"
      ]
     },
     "execution_count": 314,
     "metadata": {},
     "output_type": "execute_result"
    }
   ],
   "source": [
    "sequence_opt = couverture_balle(graphe)\n",
    "cout_bb = max([rayon for centre, rayon in sequence_opt])\n",
    "\n",
    "sequence_opt"
   ]
  },
  {
   "cell_type": "code",
   "execution_count": 315,
   "metadata": {},
   "outputs": [],
   "source": [
    "#visualiser_graphe_par_etape(graphe, [centre for centre, rayon in sequence_opt])\n"
   ]
  },
  {
   "cell_type": "markdown",
   "metadata": {},
   "source": [
    "## Comparaison des heuristiques"
   ]
  },
  {
   "cell_type": "markdown",
   "metadata": {},
   "source": [
    "### Heuristique multiplicative"
   ]
  },
  {
   "cell_type": "code",
   "execution_count": 316,
   "metadata": {},
   "outputs": [],
   "source": [
    "def heuristique_multiplicative(current_max_r, current_num, brules, n, graphe):\n",
    "    \"\"\"\n",
    "    Heuristique par défaut :\n",
    "      - current_max_r : le rayon maximal utilisé jusqu'à présent.\n",
    "      - brules : l'ensemble des sommets déjà \"brûlés\".\n",
    "      - n : le nombre total de sommets.\n",
    "    \n",
    "    Renvoie une valeur heuristique qui combine le rayon maximal et\n",
    "    la fraction des sommets non encore couverts.\n",
    "    \"\"\"\n",
    "    remaining = n - len(brules)\n",
    "    return current_max_r + (1 + (remaining / n))\n"
   ]
  },
  {
   "cell_type": "markdown",
   "metadata": {},
   "source": [
    "### Heuristique quadratique sur la couverture restante"
   ]
  },
  {
   "cell_type": "code",
   "execution_count": 317,
   "metadata": {},
   "outputs": [],
   "source": [
    "def heuristique_quadratique(current_max_r, current_num, brules, n, graphe):\n",
    "    \"\"\"\n",
    "    Calcule l'heuristique en utilisant un terme quadratique sur la fraction restante.\n",
    "      h = current_max_r + (remaining/n)²\n",
    "    Cette formulation peut favoriser les états ayant couvert une partie importante du graphe.\n",
    "    \"\"\"\n",
    "    remaining = n - len(brules)\n",
    "    return current_max_r + (remaining / n) ** 2\n"
   ]
  },
  {
   "cell_type": "markdown",
   "metadata": {},
   "source": [
    "### Heuristique combinant rayon et nombre de balles utilisées"
   ]
  },
  {
   "cell_type": "code",
   "execution_count": 318,
   "metadata": {},
   "outputs": [],
   "source": [
    "def heuristique_combine(current_max_r, current_num, brules, n, graphe):\n",
    "    \"\"\"\n",
    "    Heuristique combinée qui prend en compte :\n",
    "      - Le rayon maximal utilisé,\n",
    "      - Le nombre de balles posées,\n",
    "      - La fraction de sommets non couverts.\n",
    "    Le choix des coefficients (ici 0.5) peut être ajusté selon l'importance que vous souhaitez donner à chaque critère.\n",
    "      h = current_max_r + 0.5 * current_num + (remaining / n)\n",
    "    \"\"\"\n",
    "    remaining = n - len(brules)\n",
    "    return current_max_r + 0.5 * current_num + (remaining / n)\n"
   ]
  },
  {
   "cell_type": "markdown",
   "metadata": {},
   "source": [
    "### Heuristique basée sur le degré moyen des sommets non couverts"
   ]
  },
  {
   "cell_type": "code",
   "execution_count": 319,
   "metadata": {},
   "outputs": [],
   "source": [
    "def heuristique_degre(current_max_r, current_num, brules, n, graphe):\n",
    "    \"\"\"\n",
    "    Calcule l'heuristique en tenant compte du degré moyen des sommets non couverts.\n",
    "    \n",
    "    L'idée est que si les sommets restants ont un degré élevé, ils\n",
    "    devraient être plus faciles à couvrir. On pénalise donc moins ces états.\n",
    "    \n",
    "    Paramètres :\n",
    "      - current_max_r : le rayon maximal utilisé jusqu'à présent.\n",
    "      - brules : ensemble des sommets déjà couverts.\n",
    "      - n : nombre total de sommets.\n",
    "      - graphe : dictionnaire représentant le graphe (pour accéder aux voisins).\n",
    "    \n",
    "    Retourne une valeur heuristique.\n",
    "    \"\"\"\n",
    "    remaining = set(graphe.keys()) - brules\n",
    "    if not remaining:\n",
    "        return current_max_r\n",
    "    avg_deg = sum(len(graphe[v]) for v in remaining) / len(remaining)\n",
    "    # On pénalise moins si le degré moyen est élevé\n",
    "    penalty = (len(remaining) / n) / (avg_deg + 1)\n",
    "    return current_max_r + penalty\n"
   ]
  },
  {
   "cell_type": "markdown",
   "metadata": {},
   "source": [
    "### fonction couverture de balle adapté"
   ]
  },
  {
   "cell_type": "code",
   "execution_count": 320,
   "metadata": {},
   "outputs": [],
   "source": [
    "def couverture_balle_beta(graphe, heuristique_func):\n",
    "    \"\"\"\n",
    "    Cherche une séquence de balles (centre, rayon) qui couvre entièrement le graphe.\n",
    "    \n",
    "    Contraintes :\n",
    "      - Les rayons possibles sont 1, 2, ..., ⌈√n⌉ où n = nombre de sommets.\n",
    "      - Un même rayon ne peut être utilisé qu'une seule fois dans une solution.\n",
    "      - On explore d'abord les grandes valeurs de rayon.\n",
    "    \n",
    "    Paramètres :\n",
    "      - graphe : dictionnaire représentant le graphe.\n",
    "      - heuristique_func : fonction qui calcule l'heuristique à partir de (current_max_r, brules, n).\n",
    "    \n",
    "    Retourne la séquence des balles (centre, rayon) de la solution trouvée.\n",
    "    \"\"\"\n",
    "    n = len(graphe)\n",
    "    V = list(graphe.keys())\n",
    "    best_sequence = None\n",
    "    best_max_r = float('inf')\n",
    "    best_num_balls = float('inf')\n",
    "    max_rayon_possible = math.ceil(math.sqrt(n))\n",
    "    \n",
    "    # File de priorité (heap) contenant pour chaque état :\n",
    "    # (heuristique, rayon_max_actuel, nombre_de_balles, sommets_brulés, séquence, rayons_utilisés)\n",
    "    heap = []\n",
    "    heapq.heappush(heap, (0, 0, 0, set(), [], set()))\n",
    "    \n",
    "    # Dictionnaire de mémorisation pour éviter de revisiter des états moins optimaux\n",
    "    memo = defaultdict(lambda: (float('inf'), float('inf')))\n",
    "    \n",
    "    while heap:\n",
    "        heur, current_max_r, current_num, brules, seq, used_r = heapq.heappop(heap)\n",
    "        \n",
    "        # Élagage : on passe si l'état courant est moins bon que la meilleure solution trouvée\n",
    "        if current_max_r > best_max_r or (current_max_r == best_max_r and current_num >= best_num_balls):\n",
    "            continue\n",
    "        \n",
    "        # Si tous les sommets sont brûlés, on met à jour la meilleure solution\n",
    "        if len(brules) == n:\n",
    "            if current_max_r < best_max_r or (current_max_r == best_max_r and current_num < best_num_balls):\n",
    "                best_max_r, best_num_balls, best_sequence = current_max_r, current_num, seq\n",
    "            continue\n",
    "        \n",
    "        # Pour chaque sommet non brûlé, on essaie de l'étendre avec différents rayons\n",
    "        for v in V:\n",
    "            if v not in brules:\n",
    "                max_possible_r = min(max_rayon_possible, best_max_r)\n",
    "                # On explore les grands rayons en premier\n",
    "                for r in range(max_possible_r - 1, -1, -1):\n",
    "                    if r in used_r:\n",
    "                        continue  # Ce rayon a déjà été utilisé dans la séquence courante\n",
    "                    \n",
    "                    # Calcul à la demande des sommets brûlés par la balle (v, r)\n",
    "                    burned_with_ball = bruler(graphe, v, r)  # fonction supposée définie ailleurs\n",
    "                    nouveaux_brules = brules | burned_with_ball\n",
    "                    new_max_r = max(current_max_r, r)\n",
    "                    new_num = current_num + 1\n",
    "                    \n",
    "                    # Clé de mémorisation : combinaison des sommets brûlés et des rayons utilisés\n",
    "                    key = (frozenset(nouveaux_brules), frozenset(used_r | {r}))\n",
    "                    if (new_max_r, new_num) >= memo[key]:\n",
    "                        continue\n",
    "                    memo[key] = (new_max_r, new_num)\n",
    "                    \n",
    "                    # Utilisation de la fonction d'heuristique passée en argument\n",
    "                    heuristic = heuristique_func(new_max_r, new_num, nouveaux_brules, n, graphe)\n",
    "                    heapq.heappush(heap, (heuristic, new_max_r, new_num, nouveaux_brules, seq + [(v, r)], used_r | {r}))\n",
    "    \n",
    "    # Optionnel : trier la séquence par rayon décroissant et ajuster le rayon (si nécessaire)\n",
    "    res = sorted(best_sequence, key=lambda x: x[1], reverse=True)\n",
    "    res = [(center, rayon + 1) for center, rayon in res]\n",
    "    return res\n"
   ]
  },
  {
   "cell_type": "code",
   "execution_count": 321,
   "metadata": {},
   "outputs": [
    {
     "data": {
      "text/plain": [
       "[(32, 3), (17, 1)]"
      ]
     },
     "execution_count": 321,
     "metadata": {},
     "output_type": "execute_result"
    }
   ],
   "source": [
    "couverture_balle_beta(graphe, heuristique_multiplicative)"
   ]
  },
  {
   "cell_type": "code",
   "execution_count": 322,
   "metadata": {},
   "outputs": [
    {
     "data": {
      "text/plain": [
       "[(32, 3), (17, 1)]"
      ]
     },
     "execution_count": 322,
     "metadata": {},
     "output_type": "execute_result"
    }
   ],
   "source": [
    "couverture_balle_beta(graphe, heuristique_quadratique)"
   ]
  },
  {
   "cell_type": "code",
   "execution_count": 323,
   "metadata": {},
   "outputs": [
    {
     "data": {
      "text/plain": [
       "[(32, 3), (17, 1)]"
      ]
     },
     "execution_count": 323,
     "metadata": {},
     "output_type": "execute_result"
    }
   ],
   "source": [
    "couverture_balle_beta(graphe, heuristique_combine)"
   ]
  },
  {
   "cell_type": "code",
   "execution_count": 324,
   "metadata": {},
   "outputs": [
    {
     "data": {
      "text/plain": [
       "[(32, 3), (17, 1)]"
      ]
     },
     "execution_count": 324,
     "metadata": {},
     "output_type": "execute_result"
    }
   ],
   "source": [
    "couverture_balle_beta(graphe, heuristique_degre)"
   ]
  },
  {
   "cell_type": "markdown",
   "metadata": {},
   "source": [
    "## couverture_balle_timing"
   ]
  },
  {
   "cell_type": "code",
   "execution_count": 326,
   "metadata": {},
   "outputs": [],
   "source": [
    "def couverture_balle_beta_timing(graphe, heuristique_func):\n",
    "    \"\"\"\n",
    "    Retourne la séquence finale (liste des couples (sommet, rayon+1)) et une liste \n",
    "    'burning_progress' contenant, pour chaque itération, un tuple (temps, current_max_r, best_max_r)\n",
    "    qui permet de suivre l'évolution du burning number au fil du temps.\n",
    "\n",
    "    - temps : temps écoulé depuis le démarrage.\n",
    "    - current_max_r : le burning number du nœud extrait lors de l'itération.\n",
    "    - best_max_r : le meilleur burning number (celui d'une solution complète) trouvé jusqu'alors.\n",
    "    \"\"\"\n",
    "    import time, math, heapq\n",
    "    from collections import defaultdict\n",
    "\n",
    "    start_time = time.time()\n",
    "    burning_progress = []  # Pour enregistrer la progression minimale : (temps, current_max_r, best_max_r)\n",
    "    n = len(graphe)\n",
    "    V = list(graphe.keys())\n",
    "    \n",
    "    best_sequence = None\n",
    "    best_max_r = float('inf')\n",
    "    best_num_balls = float('inf')\n",
    "    max_rayon_possible = math.ceil(math.sqrt(n))\n",
    "    \n",
    "    # File de priorité : chaque élément est un tuple\n",
    "    # (heuristique, current_max_r, current_num, brules, seq, used_r)\n",
    "    heap = []\n",
    "    heapq.heappush(heap, (0, 0, 0, set(), [], set()))\n",
    "    memo = defaultdict(lambda: (float('inf'), float('inf')))\n",
    "    \n",
    "    while heap:\n",
    "        heur, current_max_r, current_num, brules, seq, used_r = heapq.heappop(heap)\n",
    "        current_time = time.time() - start_time\n",
    "        \n",
    "        # Enregistrement minimal à chaque itération\n",
    "        burning_progress.append((current_time, current_max_r, best_max_r))\n",
    "        \n",
    "        # Abandon de cette branche si elle est moins prometteuse que la meilleure solution trouvée\n",
    "        if current_max_r > best_max_r or (current_max_r == best_max_r and current_num >= best_num_balls):\n",
    "            continue\n",
    "        \n",
    "        # Si la solution est complète (tous les sommets brûlés)\n",
    "        if len(brules) == n:\n",
    "            if current_max_r < best_max_r or (current_max_r == best_max_r and current_num < best_num_balls):\n",
    "                best_max_r, best_num_balls, best_sequence = current_max_r, current_num, seq\n",
    "            continue\n",
    "        \n",
    "        # Exploration des prochaines possibilités\n",
    "        for v in V:\n",
    "            if v not in brules:\n",
    "                max_possible_r = min(max_rayon_possible, best_max_r)\n",
    "                for r in range(max_possible_r - 1, -1, -1):\n",
    "                    if r in used_r:\n",
    "                        continue\n",
    "\n",
    "                    # La fonction 'bruler' doit être définie et retourner l'ensemble des sommets brûlés\n",
    "                    burned_with_ball = bruler(graphe, v, r)\n",
    "                    nouveaux_brules = brules | burned_with_ball\n",
    "                    new_max_r = max(current_max_r, r)\n",
    "                    new_num = current_num + 1\n",
    "\n",
    "                    key = (frozenset(nouveaux_brules), frozenset(used_r | {r}))\n",
    "                    \n",
    "                    if (new_max_r, new_num) >= memo[key]:\n",
    "                        continue\n",
    "                    memo[key] = (new_max_r, new_num)\n",
    "                    \n",
    "                    candidate_seq = seq + [(v, r)]\n",
    "                    heuristic = heuristique_func(new_max_r, new_num, nouveaux_brules, n, graphe)\n",
    "                    heapq.heappush(heap, (heuristic, new_max_r, new_num, nouveaux_brules, candidate_seq, used_r | {r}))\n",
    "    \n",
    "    final_time = time.time() - start_time\n",
    "    # Enregistrement final de l'état optimal\n",
    "    burning_progress.append((final_time, best_max_r, best_max_r))\n",
    "    \n",
    "    if best_sequence is None:\n",
    "        return [], burning_progress\n",
    "    \n",
    "    # Ajustement final : augmentation de 1 du rayon pour le résultat final\n",
    "    res = [(center, rayon + 1) for center, rayon in best_sequence]\n",
    "    return res, burning_progress\n"
   ]
  },
  {
   "cell_type": "code",
   "execution_count": 332,
   "metadata": {},
   "outputs": [],
   "source": [
    "res_1, bn_h1 = couverture_balle_beta_timing(graphe, heuristique_multiplicative)"
   ]
  },
  {
   "cell_type": "code",
   "execution_count": 333,
   "metadata": {},
   "outputs": [],
   "source": [
    "res_2, bn_h2 = couverture_balle_beta_timing(graphe, heuristique_quadratique)"
   ]
  },
  {
   "cell_type": "code",
   "execution_count": 334,
   "metadata": {},
   "outputs": [],
   "source": [
    "res_3, bn_h3 = couverture_balle_beta_timing(graphe, heuristique_combine)"
   ]
  },
  {
   "cell_type": "code",
   "execution_count": 337,
   "metadata": {},
   "outputs": [],
   "source": [
    "res_4, bn_h4 = couverture_balle_beta_timing(graphe, heuristique_degre)"
   ]
  },
  {
   "cell_type": "code",
   "execution_count": 330,
   "metadata": {},
   "outputs": [],
   "source": [
    "def plot_multiple_burning_progress(burning_progress_list, labels):\n",
    "    \"\"\"\n",
    "    Affiche la progression du burning number pour plusieurs heuristiques sur le même graphique.\n",
    "    \n",
    "    Paramètres :\n",
    "      - burning_progress_list : liste de listes de tuples (temps, current_max_r, best_max_r)\n",
    "                                Chaque élément correspond aux données d'une heuristique.\n",
    "      - labels : liste de labels (chaîne de caractères) associée à chaque heuristique.\n",
    "    \"\"\"\n",
    "    plt.figure(figsize=(20, 6))\n",
    "    \n",
    "    for bp, label in zip(burning_progress_list, labels):\n",
    "        # Extraction des données\n",
    "        times = [t for t, current, best in bp]\n",
    "        current_values = [current for t, current, best in bp]\n",
    "        \n",
    "        # Trace la courbe et récupère l'objet Line2D pour obtenir la couleur utilisée\n",
    "        line, = plt.plot(times, current_values, label=label, linestyle='--', marker='o')\n",
    "        color = line.get_color()\n",
    "        \n",
    "        # Marquer le dernier point avec un marqueur plus gros et de la même couleur\n",
    "        if times and current_values:\n",
    "            plt.plot(times[-1], current_values[-1], marker='o', color=color, markersize=15)\n",
    "    \n",
    "    plt.xlabel('Temps (secondes)')\n",
    "    plt.ylabel('Burning Number')\n",
    "    plt.title('Progression du Burning Number pour différentes heuristiques')\n",
    "    plt.legend()\n",
    "    plt.grid(True)\n",
    "    plt.show()\n",
    "\n"
   ]
  },
  {
   "cell_type": "code",
   "execution_count": 338,
   "metadata": {},
   "outputs": [
    {
     "data": {
      "image/png": "[encoded data removed]",
      "text/plain": [
       "<Figure size 2000x600 with 1 Axes>"
      ]
     },
     "metadata": {},
     "output_type": "display_data"
    }
   ],
   "source": [
    "plot_multiple_burning_progress(\n",
    "    [bn_h1, bn_h2, bn_h3, bn_h4],\n",
    "    [heuristique_multiplicative.__name__, heuristique_quadratique.__name__,\n",
    "     heuristique_combine.__name__, heuristique_degre.__name__]\n",
    ")\n"
   ]
  },
  {
   "cell_type": "code",
   "execution_count": 241,
   "metadata": {},
   "outputs": [],
   "source": [
    "def plot_burning_progress_adatpted(burning_progress):\n",
    "    \"\"\"\n",
    "    Affiche la progression du burning number à partir de la liste burning_progress.\n",
    "    La fonction adapte automatiquement l'échelle du temps en fonction des données.\n",
    "    \n",
    "    burning_progress : liste de tuples (temps, current_max_r, best_max_r)\n",
    "    \"\"\"\n",
    "    # Extraction des données\n",
    "    times = [t for t, current, best in burning_progress]\n",
    "    current_values = [current for t, current, best in burning_progress]\n",
    "    best_values = [best for t, current, best in burning_progress]\n",
    "    \n",
    "    # Détermination de l'échelle adaptée\n",
    "    max_time = max(times) if times else 0\n",
    "    if max_time < 1:\n",
    "        factor = 1000\n",
    "        time_unit = \"ms\"\n",
    "    elif max_time < 60:\n",
    "        factor = 1\n",
    "        time_unit = \"s\"\n",
    "    elif max_time < 3600:\n",
    "        factor = 1/60\n",
    "        time_unit = \"min\"\n",
    "    else:\n",
    "        factor = 1/3600\n",
    "        time_unit = \"h\"\n",
    "    \n",
    "    times_scaled = [t * factor for t in times]\n",
    "    \n",
    "    # Création du graphique\n",
    "    plt.figure(figsize=(10, 6))\n",
    "    plt.plot(times_scaled, current_values, label='Burning Number courant', linestyle='--', marker='o')\n",
    "    plt.plot(times_scaled, best_values, label='Meilleur Burning Number', linestyle='-', marker='o')\n",
    "    \n",
    "    plt.xlabel(f'Temps ({time_unit})')\n",
    "    plt.ylabel('Burning Number')\n",
    "    plt.title('Progression du Burning Number au cours du temps')\n",
    "    plt.legend()\n",
    "    plt.grid(True)\n",
    "    plt.show()"
   ]
  },
  {
   "cell_type": "markdown",
   "metadata": {},
   "source": [
    "- imposer un limite de 10s -> faire la recherche pendant max 10s\n",
    "- tester pour diff periode de temps, arreter après avoir passer cette periode de temps, et voir au bout de quel moment arrive à un solution optimale (ou meme comparer la qté de a solution)\n",
    "\n",
    "=> figure : \n",
    "- x : periode d'exec\n",
    "- y : burning number\n",
    "- clé : diff graphe\n",
    "\n",
    "\n",
    "(HPC serveur frontal de l'isima => faire assez de calcule en paralelle qu'on veux)"
   ]
  },
  {
   "cell_type": "markdown",
   "metadata": {},
   "source": [
    "- bruler le graphe à un certain rayon et calculer ça connectivité \n",
    "- calculer le nbr de composant connexe ( à chercher ça def)\n",
    "- diametre = le nbr de sommet entre les deux sommet les plus éloigné du graphe"
   ]
  },
  {
   "cell_type": "markdown",
   "metadata": {},
   "source": [
    "objectif : relaxation linéaire pour les petits graphes"
   ]
  }
 ],
 "metadata": {
  "kernelspec": {
   "display_name": ".venv",
   "language": "python",
   "name": "python3"
  },
  "language_info": {
   "codemirror_mode": {
    "name": "ipython",
    "version": 3
   },
   "file_extension": ".py",
   "mimetype": "text/x-python",
   "name": "python",
   "nbconvert_exporter": "python",
   "pygments_lexer": "ipython3",
   "version": "3.11.6"
  }
 },
 "nbformat": 4,
 "nbformat_minor": 2
}
