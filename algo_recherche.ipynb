{
 "cells": [
  {
   "cell_type": "code",
   "execution_count": 137,
   "metadata": {},
   "outputs": [],
   "source": [
    "import random\n",
    "import math\n",
    "import heapq\n",
    "from collections import deque, defaultdict"
   ]
  },
  {
   "cell_type": "code",
   "execution_count": 138,
   "metadata": {},
   "outputs": [],
   "source": [
    "import nbimporter\n",
    "from fct_usuelles import calculer_voisinage_etendu\n",
    "from fct_usuelles import lire_graphe, afficher_graphe, visualiser_graphe_par_etape\n",
    "#from fct_usuelles import generate_cyclic_graph, generate_chain_graph, generate_spider_graph"
   ]
  },
  {
   "cell_type": "markdown",
   "metadata": {},
   "source": [
    "prends en paramètre un graphe dans un état (càd avec des sommets brulés) et retourne le graphe dans l'état suivante"
   ]
  },
  {
   "cell_type": "code",
   "execution_count": 139,
   "metadata": {},
   "outputs": [],
   "source": [
    "def successeurs(graphe, etat_actuel):\n",
    "    \"\"\"\n",
    "    Génère l'état suivant en propageant la brûlure aux voisins des sommets déjà brûlés.\n",
    "    :param graphe: Le graphe sous forme de dictionnaire.\n",
    "    :param etat_actuel: Dictionnaire contenant l'état actuel des sommets (brûlés ou non brûlés).\n",
    "    :return: Nouveau dictionnaire représentant l'état des sommets après propagation.\n",
    "    \"\"\"\n",
    "\n",
    "    brulage = False  # Indique si un sommet a été brûlé dans cet appel de la fonction\n",
    "\n",
    "    # Copier l'état actuel pour générer le nouvel état\n",
    "    nouvel_etat = etat_actuel.copy()\n",
    "\n",
    "    # Récupérer tous les sommets brûlés\n",
    "    sommets_brules = [sommet for sommet, etat in nouvel_etat.items() if etat == 1]\n",
    "\n",
    "    # Propager la brûlure aux voisins des sommets brûlés\n",
    "    for sommet in sommets_brules:\n",
    "        for voisin in graphe.get(sommet, []):  # Obtenir les voisins dans la liste d'adjacence\n",
    "            if nouvel_etat[voisin] == 0:  # Brûler uniquement les sommets non brûlés\n",
    "                nouvel_etat[voisin] = 1\n",
    "                brulage = True\n",
    "\n",
    "    return nouvel_etat, brulage"
   ]
  },
  {
   "cell_type": "markdown",
   "metadata": {},
   "source": [
    "test_but : vérifie si tout les sommets sont brulées"
   ]
  },
  {
   "cell_type": "code",
   "execution_count": 140,
   "metadata": {},
   "outputs": [],
   "source": [
    "def test_but(etat_actuel):\n",
    "    \"\"\"\n",
    "    Vérifie si tous les sommets du graphe sont brûlés.\n",
    "    :param etat_actuel: Dictionnaire contenant l'état actuel des sommets (brûlés ou non brûlés).\n",
    "    :return: True si tous les sommets sont brûlés, False sinon.\n",
    "    \"\"\"\n",
    "    return all(etat == 1 for etat in etat_actuel.values())\n"
   ]
  },
  {
   "cell_type": "code",
   "execution_count": 141,
   "metadata": {},
   "outputs": [],
   "source": [
    "def choisir_sommet_a_bruler(graphe, etat_actuel):\n",
    "    \"\"\"\n",
    "    Sélectionne un sommet non brûlé ayant le maximum de voisins.\n",
    "    \n",
    "    :param graphe: Le graphe sous forme de dictionnaire (liste d'adjacence).\n",
    "    :param etat_actuel: Dictionnaire contenant l'état actuel des sommets.\n",
    "    :return: Le sommet non brûlé avec le maximum de voisins, ou None si aucun sommet disponible.\n",
    "    \"\"\"\n",
    "    # Trouver les sommets non brûlés\n",
    "    sommets_non_brules = [sommet for sommet, etat in etat_actuel.items() if etat == 0]\n",
    "    \n",
    "    if not sommets_non_brules:\n",
    "        # Aucun sommet non brûlé\n",
    "        return None\n",
    "\n",
    "    # Trouver le sommet avec le maximum de voisins\n",
    "    sommet_max_voisins = max(sommets_non_brules, key=lambda sommet: len(graphe.get(sommet, [])))\n",
    "\n",
    "    return sommet_max_voisins\n"
   ]
  },
  {
   "cell_type": "code",
   "execution_count": 142,
   "metadata": {},
   "outputs": [],
   "source": [
    "def choisir_sommet_aleatoire(etat_actuel):\n",
    "    sommets_non_brules = [sommet for sommet, etat in etat_actuel.items() if etat == 0]\n",
    "    return random.choice(sommets_non_brules) if sommets_non_brules else None\n"
   ]
  },
  {
   "cell_type": "markdown",
   "metadata": {},
   "source": [
    "## 1ère méthode"
   ]
  },
  {
   "cell_type": "code",
   "execution_count": 143,
   "metadata": {},
   "outputs": [],
   "source": [
    "def recherche_profondeur(graphe, etat_initial):\n",
    "    \"\"\"\n",
    "    Algorithme générique de recherche pour brûler un graphe en choisissant un sommet par étape.\n",
    "    :param graphe: Le graphe sous forme de dictionnaire (liste d'adjacence).\n",
    "    :param etat_initial: Dictionnaire représentant l'état initial des sommets (brûlés ou non brûlés).\n",
    "    :param successeurs: Fonction qui génère l'état suivant (propagation).\n",
    "    :param test_but: Fonction qui vérifie si tous les sommets sont brûlés.\n",
    "    :return: Chemin (liste des états successifs), sommets brûlés activement à chaque étape, et coût total.\n",
    "    \"\"\"\n",
    "    # Initialisation : créer la liste des états à traiter\n",
    "    etats_a_traiter = deque([{\"etat\": etat_initial, \"cout\": 1, \"brules_actifs\": []}])\n",
    "\n",
    "    while etats_a_traiter:\n",
    "        # Extraire un état\n",
    "        noeud = etats_a_traiter.pop()\n",
    "\n",
    "        noeud[\"etat\"], brulage = successeurs(graphe, noeud[\"etat\"])\n",
    "\n",
    "        if brulage:\n",
    "            noeud[\"cout\"] += 1  # Chaque étape coûte 1\n",
    "\n",
    "        # Vérifier si tous les sommets sont brûlés\n",
    "        if test_but(noeud[\"etat\"]):\n",
    "            return noeud[\"brules_actifs\"], noeud[\"cout\"]\n",
    "\n",
    "        # Choisir un nouveau sommet à brûler activement\n",
    "        nouveau_sommet = choisir_sommet_a_bruler(graphe, noeud[\"etat\"])\n",
    "        #nouveau_sommet = choisir_sommet_aleatoire(noeud[\"etat\"])\n",
    "        if nouveau_sommet is None:\n",
    "            # Si aucun sommet à brûler n'est disponible, retourner l'état actuel\n",
    "            continue\n",
    "\n",
    "        # Copier l'état courant\n",
    "        etat_suivant = noeud[\"etat\"].copy()\n",
    "\n",
    "        # Marquer le sommet comme \"brûlé\"\n",
    "        etat_suivant[nouveau_sommet] = 1\n",
    "\n",
    "        # Ajouter le nouvel état à la liste des états à traiter\n",
    "        etats_a_traiter.append({\n",
    "            \"etat\": etat_suivant,\n",
    "            \"cout\": noeud[\"cout\"],  # Chaque étape coûte 1\n",
    "            \"brules_actifs\": noeud[\"brules_actifs\"] + [nouveau_sommet]\n",
    "        })\n",
    "\n",
    "    # Si aucun état final n'est trouvé\n",
    "    return [], float(\"inf\")\n"
   ]
  },
  {
   "cell_type": "markdown",
   "metadata": {},
   "source": [
    "etape 1 :\n",
    "\n",
    "parcours en largeur : popleft de la liste des états à traiter\n",
    "\n",
    "parcours en largeur itéré : livre artificial intelligence section 3.4.4 et 3.4.5\n",
    "\n",
    "\n",
    "etape 2 : couverture des balles\n",
    "\n",
    "appliquer le A* dans le parcours"
   ]
  },
  {
   "cell_type": "markdown",
   "metadata": {},
   "source": [
    "bruler ce noeuds pendant un certain temps\n",
    "=> couverture par des balles\n",
    "\n",
    "l'ensemble des action : \n",
    "le cout : la taille de la grande balle\n",
    "fixer burning number dés le début (6)\n"
   ]
  },
  {
   "cell_type": "markdown",
   "metadata": {},
   "source": [
    "# 2éme méthode"
   ]
  },
  {
   "cell_type": "code",
   "execution_count": 144,
   "metadata": {},
   "outputs": [],
   "source": [
    "def recherche_largeur(graphe, etat_initial):\n",
    "    \"\"\"\n",
    "    Algorithme générique de recherche en largeur pour brûler un graphe.\n",
    "    À chaque étape, chaque sommet est exploré pour générer tous les états possibles.\n",
    "    :param graphe: Le graphe sous forme de dictionnaire (liste d'adjacence).\n",
    "    :param etat_initial: Dictionnaire représentant l'état initial des sommets (brûlés ou non brûlés).\n",
    "    :param successeurs: Fonction qui génère l'état suivant (propagation).\n",
    "    :param test_but: Fonction qui vérifie si tous les sommets sont brûlés.\n",
    "    :return: Chemin (liste des états successifs), sommets brûlés activement à chaque étape, et coût total.\n",
    "    \"\"\"\n",
    "    # Initialisation : file (FIFO) pour gérer les états à traiter\n",
    "    etats_a_traiter = deque([{\"etat\": etat_initial, \"cout\": 1, \"brules_actifs\": []}])\n",
    "\n",
    "    while etats_a_traiter:\n",
    "        # Extraire un état de la file (FIFO)\n",
    "        noeud = etats_a_traiter.popleft()\n",
    "\n",
    "        # Propager l'état courant (brûlage des voisins déjà brûlés)\n",
    "        noeud[\"etat\"], brulage = successeurs(graphe, noeud[\"etat\"])\n",
    "\n",
    "        if brulage:\n",
    "            noeud[\"cout\"] += 1  # Chaque étape coûte 1\n",
    "\n",
    "        # Vérifier si tous les sommets sont brûlés\n",
    "        if test_but(noeud[\"etat\"]):\n",
    "            return noeud[\"brules_actifs\"], noeud[\"cout\"]\n",
    "\n",
    "        # Générer tous les nouveaux états possibles en brûlant chaque sommet non brûlé\n",
    "        for sommet in graphe:\n",
    "            if noeud[\"etat\"].get(sommet) != 1:  # Si le sommet n'est pas encore brûlé\n",
    "                # Copier l'état courant\n",
    "                etat_suivant = noeud[\"etat\"].copy()\n",
    "\n",
    "                # Marquer le sommet comme \"brûlé\"\n",
    "                etat_suivant[sommet] = 1\n",
    "\n",
    "                # Ajouter le nouvel état à la file\n",
    "                etats_a_traiter.append({\n",
    "                    \"etat\": etat_suivant,\n",
    "                    \"cout\": noeud[\"cout\"],\n",
    "                    \"brules_actifs\": noeud[\"brules_actifs\"] + [sommet]\n",
    "                })\n",
    "\n",
    "    # Si aucun état final n'est trouvé\n",
    "    return [], float(\"inf\")\n"
   ]
  },
  {
   "cell_type": "code",
   "execution_count": 185,
   "metadata": {},
   "outputs": [],
   "source": [
    "# 10 sommets (3.16)\n",
    "#fichier = r'instances\\Stranke94\\Stranke94.mtx'\n",
    "\n",
    "# 29 sommets (5.38)\n",
    "#fichier = r'instances\\bn-mouse_visual-cortex_1\\bn-mouse_visual-cortex_1.mtx'\n",
    "\n",
    "# 34 sommets (5,83)\n",
    "#fichier = r'instances\\karate\\karate.mtx'\n",
    "\n",
    "# 7057 sommets (84.005)\n",
    "fichier = r'instances\\fb-pages-government\\fb-pages-government.mtx'\n",
    "\n",
    "# 11631 sommets (107.84)\n",
    "#fichier = r'instances\\web-wiki-crocodile\\web-wiki-crocodile.mtx'\n",
    "\n",
    "# 196 591 sommets (443.38)\n",
    "#fichier = r'instances\\loc-gowalla_edges\\loc-gowalla_edges.mtx'\n",
    "\n",
    "# Charger un graphe avec la fonction lire_graphe\n",
    "graphe = lire_graphe(fichier)"
   ]
  },
  {
   "cell_type": "code",
   "execution_count": 146,
   "metadata": {},
   "outputs": [],
   "source": [
    "# Graphe cyclique (4)\n",
    "#graphe = generate_cyclic_graph(16)\n",
    "\n",
    "# Graphe en chaîne (4)\n",
    "#graphe = generate_chain_graph(16)\n",
    "\n",
    "# Graphe en étoile/spider (4.58)\n",
    "#graphe = generate_spider_graph(0, leg_length=4, num_legs=5)"
   ]
  },
  {
   "cell_type": "code",
   "execution_count": 147,
   "metadata": {},
   "outputs": [],
   "source": [
    "#afficher_graphe(graphe)"
   ]
  },
  {
   "cell_type": "code",
   "execution_count": 148,
   "metadata": {},
   "outputs": [],
   "source": [
    "#etat_initial = {sommet: 0 for sommet in graphe}"
   ]
  },
  {
   "cell_type": "code",
   "execution_count": 149,
   "metadata": {},
   "outputs": [],
   "source": [
    "#sommets_actifs_p, cout = recherche_profondeur(graphe, etat_initial)\n",
    "#\n",
    "#print(\"*********** Parcours en profondeur ***********\")\n",
    "#print(\"Sommets brûlés à chaque étape:\", sommets_actifs_p)\n",
    "#print(\"Coût total:\", cout)"
   ]
  },
  {
   "cell_type": "code",
   "execution_count": 150,
   "metadata": {},
   "outputs": [],
   "source": [
    "#sommets_actifs_l, cout = recherche_largeur(graphe, etat_initial)\n",
    "#\n",
    "#print(\"*********** Parcours en largeur ***********\")\n",
    "#print(\"Sommets brûlés à chaque étape:\", sommets_actifs_l)\n",
    "#print(\"Coût total:\", cout)"
   ]
  },
  {
   "cell_type": "markdown",
   "metadata": {},
   "source": [
    "dire un sommet va etre brulé au 3 tour par exemple\n",
    "notre solution (du 2eme algo) sera le  centre (sommet) de la boule ayant le rayon le plus grand"
   ]
  },
  {
   "cell_type": "code",
   "execution_count": 151,
   "metadata": {},
   "outputs": [],
   "source": [
    "# Visualiser le graphe par étape\n",
    "#visualiser_graphe_par_etape(graphe, sommets_actifs_l)\n"
   ]
  },
  {
   "cell_type": "markdown",
   "metadata": {},
   "source": [
    "# Couverture des balles"
   ]
  },
  {
   "cell_type": "markdown",
   "metadata": {},
   "source": [
    "### Définition clarifiée des balles :\n",
    "1. **Rayon de la balle** :\n",
    "   - Le rayon $ r $ détermine combien de niveaux de voisins (profondeur dans le graphe) la balle peut atteindre depuis son centre $ U $.\n",
    "   - Par exemple :\n",
    "     - Rayon 1 : Brûle uniquement les voisins directs de $ U $.\n",
    "     - Rayon 2 : Brûle les voisins de $ U $ et les voisins des voisins de $ U $.\n",
    "\n",
    "2. **Centre de la balle** :\n",
    "   - Chaque balle a un centre $ U $, qui est un sommet du graphe. À partir de ce centre, la brûlure se propage jusqu’à une profondeur $ r $.\n",
    "\n",
    "3. **Objectif** :\n",
    "   - Trouver un ensemble de balles ($ U_i, r_i $) qui couvrent **tout le graphe**.\n",
    "   - Chaque sommet du graphe doit être brûlé par au moins une balle.\n",
    "\n",
    "4. **Contraintes** :\n",
    "   - Les **rayons des balles doivent être différents**.\n",
    "   - Toutes les combinaisons possibles de balles (centres et rayons) doivent être explorées pour garantir que le graphe est entièrement couvert.\n",
    "\n",
    "5. **Propagation de la brûlure** :\n",
    "   - La propagation de la brûlure à une profondeur $ r $ peut être simulée par un parcours en largeur (BFS) depuis le sommet $ U $, en limitant la profondeur de l’exploration à $ r $."
   ]
  },
  {
   "cell_type": "markdown",
   "metadata": {},
   "source": [
    "---"
   ]
  },
  {
   "cell_type": "markdown",
   "metadata": {},
   "source": [
    "n <- nombre de sommet dans le graphe\n",
    "r <- math.ceil(math.sqrt(n))\n",
    "s <- sommet ayant le max de voisins pour commencer\n",
    "\n",
    "tant que graphe non brulé :\n",
    "    bruler graphe depuis sommet s avec rayon r\n",
    "    si tout graphe est brulé :\n",
    "        retourner (s,r)\n",
    "    sinon :\n",
    "        stocker dans la liste (s,r)\n",
    "        bruler graphe depuis sommet s avec rayon r\n",
    "        r <- r-1\n",
    "        sb_base <- calculer nombre sommet non brulé\n",
    "        pour tout sommet u non brulés :\n",
    "            bruler graphe depuis u avec rayon r\n",
    "            sb <- calculer nombre sommet non brulé associé au sommet u\n",
    "            si tout graphe est brulé :\n",
    "                r <- r-1\n",
    "            sinon si sb < sb_base :\n",
    "                sb_base <- sb\n",
    "                u_base <- u"
   ]
  },
  {
   "cell_type": "markdown",
   "metadata": {},
   "source": [
    "## Methode 1"
   ]
  },
  {
   "cell_type": "code",
   "execution_count": 152,
   "metadata": {},
   "outputs": [],
   "source": [
    "#def calculer_voisinage_etendu(graphe, u, distance):\n",
    "#    \"\"\"Retourne tous les sommets atteignables depuis u en <= distance étapes.\"\"\"\n",
    "#    visites = set()\n",
    "#    a_visiter = {u}\n",
    "#    for _ in range(distance):\n",
    "#        nouveaux_voisins = set()\n",
    "#        for v in a_visiter:\n",
    "#            if v not in visites:\n",
    "#                visites.add(v)\n",
    "#                nouveaux_voisins.update(graphe.get(v, []))\n",
    "#        a_visiter = nouveaux_voisins - visites\n",
    "#    return list(visites)"
   ]
  },
  {
   "cell_type": "code",
   "execution_count": 153,
   "metadata": {},
   "outputs": [],
   "source": [
    "n = len(graphe)\n",
    "max_rayon = math.ceil(math.sqrt(n))\n",
    "V = list(graphe.keys())"
   ]
  },
  {
   "cell_type": "code",
   "execution_count": 154,
   "metadata": {},
   "outputs": [],
   "source": [
    "voisinages = {}\n",
    "for u in V:\n",
    "    voisinages[u] = {}\n",
    "    for r in range(1, max_rayon + 1):\n",
    "        voisinages[u][r] = calculer_voisinage_etendu(graphe, u, r)"
   ]
  },
  {
   "cell_type": "code",
   "execution_count": null,
   "metadata": {},
   "outputs": [],
   "source": [
    "voisinages"
   ]
  },
  {
   "cell_type": "code",
   "execution_count": 156,
   "metadata": {},
   "outputs": [],
   "source": [
    "def trouver_sequence_brulage(graphe):\n",
    "    n = len(graphe)\n",
    "    max_rayon = math.ceil(math.sqrt(n))\n",
    "    V = list(graphe.keys())\n",
    "\n",
    "    # Précalcul des voisinages étendus pour chaque (sommet, rayon)\n",
    "    voisinages = {}\n",
    "    for u in V:\n",
    "        voisinages[u] = {}\n",
    "        for r in range(1, max_rayon + 1):\n",
    "            voisinages[u][r] = calculer_voisinage_etendu(graphe, u, r)\n",
    "\n",
    "    # État initial : aucun sommet brûlé, séquence vide, rayons utilisés vides\n",
    "    queue = deque()\n",
    "    queue.append((set(), [], set()))\n",
    "\n",
    "    while queue:\n",
    "        brules, sequence, rayons_utilises = queue.popleft()\n",
    "\n",
    "        # Si tous les sommets sont brûlés, retourner la séquence\n",
    "        if len(brules) == n:\n",
    "            res = sorted(sequence, key=lambda x: x[1], reverse=True)\n",
    "            return res\n",
    "\n",
    "        # Générer les actions possibles : seuls les sommets NON BRÛLÉS peuvent être des centres\n",
    "        for v in V:\n",
    "            if v not in brules:  # <-- Critère clé : v n'est pas déjà brûlé\n",
    "                for r in range(1, max_rayon + 1):\n",
    "                    if r not in rayons_utilises:\n",
    "                        # Mettre à jour les sommets brûlés : v + son voisinage à distance <= r\n",
    "                        nouveaux_brules = brules | set(voisinages[v][r])\n",
    "                        nouvelle_sequence = sequence + [(v, r)]\n",
    "                        nouveaux_rayons = rayons_utilises | {r}\n",
    "                        queue.append((nouveaux_brules, nouvelle_sequence, nouveaux_rayons))\n",
    "\n",
    "    return None  # Aucune solution trouvée"
   ]
  },
  {
   "cell_type": "markdown",
   "metadata": {},
   "source": [
    "---"
   ]
  },
  {
   "cell_type": "markdown",
   "metadata": {},
   "source": [
    "## Methode 2"
   ]
  },
  {
   "cell_type": "code",
   "execution_count": 157,
   "metadata": {},
   "outputs": [],
   "source": [
    "def couverture_balle(graphe):\n",
    "    n = len(graphe)\n",
    "    V = list(graphe.keys())  # Vérifier que tous les éléments de V sont du même type\n",
    "    best_sequence = None\n",
    "    best_max_r = float('inf')\n",
    "    best_num_balls = float('inf')\n",
    "\n",
    "    # Précalcul des voisinages étendus\n",
    "    voisinages = {}\n",
    "    for u in V:\n",
    "        voisinages[u] = {}\n",
    "        max_rayon = math.ceil(math.sqrt(n))\n",
    "        for r in range(1, max_rayon + 1):\n",
    "            voisinages[u][r] = calculer_voisinage_etendu(graphe, u, r)\n",
    "\n",
    "    # File de priorité : (heuristique, max_r, num_balls, brûlés, séquence, rayons_utilisés)\n",
    "    heap = []\n",
    "    heapq.heappush(heap, (0, 0, 0, set(), [], set()))\n",
    "\n",
    "    # Mémoire pour éviter les redondances\n",
    "    memo = defaultdict(lambda: (float('inf'), float('inf')))\n",
    "\n",
    "    while heap:\n",
    "        heur, current_max_r, current_num, brules, seq, used_r = heapq.heappop(heap)\n",
    "\n",
    "        # Élagage si une meilleure solution existe déjà\n",
    "        if current_max_r > best_max_r or (current_max_r == best_max_r and current_num >= best_num_balls):\n",
    "            continue\n",
    "\n",
    "        # Solution trouvée\n",
    "        if len(brules) == n:\n",
    "            if current_max_r < best_max_r or (current_max_r == best_max_r and current_num < best_num_balls):\n",
    "                best_max_r, best_num_balls, best_sequence = current_max_r, current_num, seq\n",
    "            continue\n",
    "\n",
    "        # Générer les prochaines actions\n",
    "        for v in V:\n",
    "            if v not in brules:\n",
    "                max_possible_r = min(math.ceil(math.sqrt(n)), best_max_r)\n",
    "                for r in range(1, max_possible_r + 1):\n",
    "                    if r in used_r:\n",
    "                        continue\n",
    "\n",
    "                    # Calcul des nouveaux brûlés\n",
    "                    nouveaux_brules = brules | set(voisinages[v][r])\n",
    "                    new_max_r = max(current_max_r, r)\n",
    "                    new_num = current_num + 1\n",
    "\n",
    "                    # Élagage via mémoire\n",
    "                    key = (frozenset(nouveaux_brules), frozenset(used_r | {r}))\n",
    "                    if (new_max_r, new_num) >= memo[key]:\n",
    "                        continue\n",
    "                    memo[key] = (new_max_r, new_num)\n",
    "\n",
    "                    # Heuristique pour prioriser les bons états\n",
    "                    remaining = n - len(nouveaux_brules)\n",
    "                    heuristic = new_max_r + (remaining / n)  # Priorité = rayon_max + progression\n",
    "                    heapq.heappush(heap, (heuristic, new_max_r, new_num, nouveaux_brules, seq + [(v, r)], used_r | {r}))\n",
    "\n",
    "    res = sorted(best_sequence, key=lambda x: x[1], reverse=True)\n",
    "    return res"
   ]
  },
  {
   "cell_type": "code",
   "execution_count": 158,
   "metadata": {},
   "outputs": [],
   "source": [
    "#sequence = trouver_sequence_brulage(graphe)\n",
    "#if sequence:\n",
    "#    print(\"Solution optimale trouvée :\", sequence)\n",
    "#    liste_triee = sorted(sequence, key=lambda x: x[1], reverse=True)\n",
    "#    centres = [centre for centre, rayon in liste_triee]\n",
    "#else:\n",
    "#    print(\"Aucune solution valide trouvée.\")"
   ]
  },
  {
   "cell_type": "code",
   "execution_count": 159,
   "metadata": {},
   "outputs": [],
   "source": [
    "#sequence = couverture_balle(graphe)\n",
    "#if sequence:\n",
    "#    print(\"Solution optimale trouvée :\", sequence)\n",
    "#    liste_triee = sorted(sequence, key=lambda x: x[1], reverse=True)\n",
    "#    centres = [centre for centre, rayon in liste_triee]\n",
    "#else:\n",
    "#    print(\"Aucune solution valide trouvée.\")"
   ]
  },
  {
   "cell_type": "code",
   "execution_count": 160,
   "metadata": {},
   "outputs": [],
   "source": [
    "#sequence = couverture_balle_beta(graphe)\n",
    "#if sequence:\n",
    "#    print(\"Solution optimale trouvée :\", sequence)\n",
    "#    liste_triee = sorted(sequence, key=lambda x: x[1], reverse=True)\n",
    "#    centres = [centre for centre, rayon in liste_triee]\n",
    "#else:\n",
    "#    print(\"Aucune solution valide trouvée.\")\n"
   ]
  },
  {
   "cell_type": "code",
   "execution_count": 161,
   "metadata": {},
   "outputs": [],
   "source": [
    "#visualiser_graphe_par_etape(graphe, centres)\n"
   ]
  },
  {
   "cell_type": "code",
   "execution_count": null,
   "metadata": {},
   "outputs": [],
   "source": [
    "\"\"\"import math\n",
    "import heapq\n",
    "from collections import defaultdict\n",
    "\n",
    "def trouver_sequence_optimale(graphe):\n",
    "    n = len(graphe)\n",
    "    V = list(graphe.keys())\n",
    "    best_sequence = None\n",
    "    best_max_r = float('inf')\n",
    "    best_num_balls = float('inf')\n",
    "    conjecture_limit = math.ceil(math.sqrt(n)) + 1  # Condition de la conjecture\n",
    "\n",
    "    # File de priorité : (heuristique, max_r, num_balls, brûlés, séquence, rayons_utilisés)\n",
    "    heap = []\n",
    "    heapq.heappush(heap, (0, 0, 0, set(), [], set()))\n",
    "    \n",
    "    # Mémoire pour éviter les redondances\n",
    "    memo = defaultdict(lambda: (float('inf'), float('inf')))\n",
    "\n",
    "    while heap:\n",
    "        heur, current_max_r, current_num, brules, seq, used_r = heapq.heappop(heap)\n",
    "\n",
    "        # Élagage si une meilleure solution existe déjà\n",
    "        if current_max_r > best_max_r or (current_max_r == best_max_r and current_num >= best_num_balls):\n",
    "            continue\n",
    "\n",
    "        # Solution trouvée\n",
    "        if len(brules) == n:\n",
    "            if current_max_r < best_max_r or (current_max_r == best_max_r and current_num < best_num_balls):\n",
    "                best_max_r, best_num_balls, best_sequence = current_max_r, current_num, seq\n",
    "            continue\n",
    "\n",
    "        # Générer les prochaines actions\n",
    "        for v in V:\n",
    "            if v not in brules:\n",
    "                max_possible_r = min(math.ceil(math.sqrt(n)), conjecture_limit)\n",
    "                for r in range(max_possible_r, 0, -1):  # Prioriser les grands rayons\n",
    "                    if r in used_r:\n",
    "                        continue\n",
    "\n",
    "                    # Calcul dynamique du voisinage étendu\n",
    "                    voisins = calculer_voisinage_etendu(graphe, v, r)\n",
    "                    new_burned = brules | set(voisins)\n",
    "                    new_max_r = max(current_max_r, r)\n",
    "                    new_num = current_num + 1\n",
    "\n",
    "                    # Respecter la conjecture et éviter les rayons 1 infinis\n",
    "                    if new_num > conjecture_limit or r < 1:\n",
    "                        continue\n",
    "\n",
    "                    # Élagage mémoire\n",
    "                    key = (frozenset(new_burned), frozenset(used_r | {r}))\n",
    "                    if (new_max_r, new_num) >= memo[key]:\n",
    "                        continue\n",
    "                    memo[key] = (new_max_r, new_num)\n",
    "\n",
    "                    # Heuristique : priorité au rayon max + couverture + nombre de balles\n",
    "                    remaining = n - len(new_burned)\n",
    "                    heuristic = new_max_r + (remaining / n) + new_num/1000\n",
    "                    heapq.heappush(heap, (heuristic, new_max_r, new_num, new_burned, seq + [(v, r)], used_r | {r}))\n",
    "\n",
    "    return best_sequence if best_sequence else []\"\"\""
   ]
  },
  {
   "cell_type": "code",
   "execution_count": 163,
   "metadata": {},
   "outputs": [],
   "source": [
    "import math\n",
    "import heapq\n",
    "from collections import defaultdict, deque\n",
    "\n",
    "def bruler(graphe, u, r):\n",
    "    \"\"\"\n",
    "    Effectue une BFS depuis le sommet u en limitant la profondeur à r.\n",
    "    Retourne l'ensemble des sommets brûlés (atteints).\n",
    "    \"\"\"\n",
    "    visited = {u}\n",
    "    queue = deque([(u, 0)])  # (sommet, profondeur)\n",
    "    while queue:\n",
    "        current, depth = queue.popleft()\n",
    "        if depth < r:\n",
    "            for neighbor in graphe.get(current, []):\n",
    "                if neighbor not in visited:\n",
    "                    visited.add(neighbor)\n",
    "                    queue.append((neighbor, depth + 1))\n",
    "    return visited"
   ]
  },
  {
   "cell_type": "code",
   "execution_count": null,
   "metadata": {},
   "outputs": [],
   "source": [
    "graphe"
   ]
  },
  {
   "cell_type": "code",
   "execution_count": null,
   "metadata": {},
   "outputs": [],
   "source": [
    "n = len(graphe)\n",
    "V = list(graphe.keys())\n",
    "best_sequence = None\n",
    "best_max_r = float('inf')\n",
    "best_num_balls = float('inf')\n",
    "max_rayon_possible = math.ceil(math.sqrt(n))\n",
    "\n",
    "V"
   ]
  },
  {
   "cell_type": "code",
   "execution_count": null,
   "metadata": {},
   "outputs": [],
   "source": [
    "heap = []\n",
    "heapq.heappush(heap, (0, 0, 0, set(), [], set()))\n",
    "memo = defaultdict(lambda: (float('inf'), float('inf')))\n",
    "\n",
    "heap"
   ]
  },
  {
   "cell_type": "code",
   "execution_count": null,
   "metadata": {},
   "outputs": [],
   "source": [
    "heur, current_max_r, current_num, brules, seq, used_r = heapq.heappop(heap)\n",
    "print(\"current_max_r\", current_max_r)\n",
    "print(\"current_num\", current_num)\n",
    "print(\"brules\", brules)\n",
    "print(\"seq\", seq)\n",
    "print(\"used_r\", used_r)\n"
   ]
  },
  {
   "cell_type": "code",
   "execution_count": null,
   "metadata": {},
   "outputs": [],
   "source": [
    "max_possible_r = min(max_rayon_possible, best_max_r)\n",
    "max_possible_r\n"
   ]
  },
  {
   "cell_type": "code",
   "execution_count": null,
   "metadata": {},
   "outputs": [],
   "source": [
    "v = V[0]\n",
    "burned_with_ball = bruler(graphe, v, r)\n",
    "burned_with_ball"
   ]
  },
  {
   "cell_type": "code",
   "execution_count": null,
   "metadata": {},
   "outputs": [],
   "source": [
    "nouveaux_brules = brules | burned_with_ball\n",
    "nouveaux_brules"
   ]
  },
  {
   "cell_type": "code",
   "execution_count": null,
   "metadata": {},
   "outputs": [],
   "source": [
    "new_max_r = max(current_max_r, r)\n",
    "new_max_r"
   ]
  },
  {
   "cell_type": "code",
   "execution_count": null,
   "metadata": {},
   "outputs": [],
   "source": [
    "new_num = current_num + 1\n",
    "new_num"
   ]
  },
  {
   "cell_type": "code",
   "execution_count": null,
   "metadata": {},
   "outputs": [],
   "source": [
    "key = (frozenset(nouveaux_brules), frozenset(used_r | {r}))\n",
    "key"
   ]
  },
  {
   "cell_type": "code",
   "execution_count": null,
   "metadata": {},
   "outputs": [],
   "source": [
    "memo[key]"
   ]
  },
  {
   "cell_type": "code",
   "execution_count": null,
   "metadata": {},
   "outputs": [],
   "source": [
    "if (new_max_r, new_num) >= memo[key] :\n",
    "    print(\"continue\")\n",
    "else:\n",
    "    print(\"else\")"
   ]
  },
  {
   "cell_type": "code",
   "execution_count": null,
   "metadata": {},
   "outputs": [],
   "source": [
    "memo[key] = (new_max_r, new_num)\n",
    "memo[key]"
   ]
  },
  {
   "cell_type": "code",
   "execution_count": null,
   "metadata": {},
   "outputs": [],
   "source": [
    "remaining = n - len(nouveaux_brules)\n",
    "remaining"
   ]
  },
  {
   "cell_type": "code",
   "execution_count": null,
   "metadata": {},
   "outputs": [],
   "source": [
    "heuristic = new_max_r + (remaining / n)\n",
    "heuristic"
   ]
  },
  {
   "cell_type": "code",
   "execution_count": null,
   "metadata": {},
   "outputs": [],
   "source": [
    "heapq.heappush(heap, (heuristic, new_max_r, new_num, nouveaux_brules, seq + [(v, r)], used_r | {r}))\n",
    "heap"
   ]
  },
  {
   "cell_type": "code",
   "execution_count": 180,
   "metadata": {},
   "outputs": [],
   "source": [
    "def couverture_balle_beta(graphe):\n",
    "    \"\"\"\n",
    "    Cherche une séquence de balles (centre, rayon) qui couvre entièrement le graphe.\n",
    "    \n",
    "    Contraintes :\n",
    "      - Les rayons possibles sont 1, 2, ..., ⌈√n⌉ où n = nombre de sommets.\n",
    "      - Un même rayon ne peut être utilisé qu'une seule fois dans une solution.\n",
    "      - On explore d'abord les grandes valeurs de rayon (pour potentiellement réduire\n",
    "        rapidement le nombre de balles et/ou le rayon maximal utilisé).\n",
    "      \n",
    "    Retourne la séquence des balles (centre, rayon) de la solution trouvée.\n",
    "    \"\"\"\n",
    "    n = len(graphe)\n",
    "    V = list(graphe.keys())\n",
    "    best_sequence = None\n",
    "    best_max_r = float('inf')\n",
    "    best_num_balls = float('inf')\n",
    "    max_rayon_possible = math.ceil(math.sqrt(n))\n",
    "    \n",
    "    # File de priorité (heap) avec pour chaque état :\n",
    "    # (heuristique, rayon_max_actuel, nombre_de_balles, sommets_brulés, séquence, rayons_utilisés)\n",
    "    heap = []\n",
    "    heapq.heappush(heap, (0, 0, 0, set(), [], set()))\n",
    "    \n",
    "    # Dictionnaire de mémorisation pour éviter de revisiter des états moins optimaux\n",
    "    memo = defaultdict(lambda: (float('inf'), float('inf')))\n",
    "    \n",
    "    while heap:\n",
    "        heur, current_max_r, current_num, brules, seq, used_r = heapq.heappop(heap)\n",
    "        \n",
    "        # Élagage : si l'état courant est moins bon que la meilleure solution trouvée, on passe\n",
    "        if current_max_r > best_max_r or (current_max_r == best_max_r and current_num >= best_num_balls):\n",
    "            continue\n",
    "        \n",
    "        # Si tous les sommets sont brûlés, on met à jour la meilleure solution\n",
    "        if len(brules) == n:\n",
    "            if current_max_r < best_max_r or (current_max_r == best_max_r and current_num < best_num_balls):\n",
    "                best_max_r, best_num_balls, best_sequence = current_max_r, current_num, seq\n",
    "            continue\n",
    "        \n",
    "        # Pour chaque sommet non brûlé, on essaie de l'étendre avec différents rayons\n",
    "        for v in V:\n",
    "            if v not in brules:\n",
    "                # On ne considère pas un rayon supérieur à celui maximum autorisé\n",
    "                # ni supérieur à best_max_r (pour rester dans une solution potentiellement optimale)\n",
    "                max_possible_r = min(max_rayon_possible, best_max_r)\n",
    "                # On explore les grands rayons en premier\n",
    "                for r in range(max_possible_r, 0, -1):\n",
    "                    if r in used_r:\n",
    "                        continue  # Ce rayon a déjà été utilisé dans la séquence courante\n",
    "                    \n",
    "                    # Calcul à la demande des sommets brûlés par la balle (v, r)\n",
    "                    burned_with_ball = bruler(graphe, v, r)\n",
    "                    nouveaux_brules = brules | burned_with_ball\n",
    "                    new_max_r = max(current_max_r, r)\n",
    "                    new_num = current_num + 1\n",
    "                    \n",
    "                    # Clé pour mémorisation : combinaison des sommets brûlés et des rayons utilisés\n",
    "                    key = (frozenset(nouveaux_brules), frozenset(used_r | {r}))\n",
    "                    if (new_max_r, new_num) >= memo[key]:\n",
    "                        continue\n",
    "                    memo[key] = (new_max_r, new_num)\n",
    "                    \n",
    "                    # Heuristique : rayon maximal utilisé + fraction des sommets restants\n",
    "                    # l'algorithme donne plus de poids à la minimisation du rayon maximal, mais prend aussi en compte la progression.\n",
    "                    remaining = n - len(nouveaux_brules)\n",
    "                    heuristic = new_max_r + (remaining / n)\n",
    "                    heapq.heappush(heap, (heuristic, new_max_r, new_num, nouveaux_brules, seq + [(v, r)], used_r | {r}))\n",
    "    \n",
    "    if best_sequence is None:\n",
    "        return []  # Aucune solution n'a été trouvée (cas théorique)\n",
    "    \n",
    "    # Optionnel : trier la séquence par rayon décroissant (similaire à la version initiale)\n",
    "    res = sorted(best_sequence, key=lambda x: x[1], reverse=True)\n",
    "    res = [(center, rayon + 1) for center, rayon in res]\n",
    "    return res\n"
   ]
  }
 ],
 "metadata": {
  "kernelspec": {
   "display_name": ".venv",
   "language": "python",
   "name": "python3"
  },
  "language_info": {
   "codemirror_mode": {
    "name": "ipython",
    "version": 3
   },
   "file_extension": ".py",
   "mimetype": "text/x-python",
   "name": "python",
   "nbconvert_exporter": "python",
   "pygments_lexer": "ipython3",
   "version": "3.11.6"
  }
 },
 "nbformat": 4,
 "nbformat_minor": 2
}
