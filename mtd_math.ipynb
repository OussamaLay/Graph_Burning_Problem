{
 "cells": [
  {
   "cell_type": "code",
   "execution_count": 32,
   "metadata": {},
   "outputs": [],
   "source": [
    "from gurobipy import Model, GRB, quicksum"
   ]
  },
  {
   "cell_type": "code",
   "execution_count": 33,
   "metadata": {},
   "outputs": [],
   "source": [
    "import nbimporter\n",
    "from fct_usuelles import calculer_voisinage_etendu, calculer_voisinage\n",
    "from fct_usuelles import lire_graphe, afficher_graphe, visualiser_graphe_par_etape\n",
    "from fct_usuelles import generate_cyclic_graph, generate_chain_graph, generate_spider_graph"
   ]
  },
  {
   "cell_type": "markdown",
   "metadata": {},
   "source": [
    "# Problème **GBP-IP** (Graph Burning Problem - Integer Program) avec **Gurobi**\n",
    "\n",
    "---\n",
    "\n",
    "### **Variables du problème :**\n",
    "- $x_{v, i}$ : une variable binaire qui vaut 1 si le sommet $v \\in V$ est le $i$-ème feu dans la séquence de brûlage, et 0 sinon.\n",
    "\n",
    "---\n",
    "\n",
    "### **Fonction Objectif :**\n",
    "\n",
    "La fonction objectif de ce problème est de **minimiser** la valeur de $ z $\n",
    "$$\n",
    "\\text{Minimiser } z\n",
    "$$\n",
    "\n",
    "### **Contraintes :**\n",
    "\n",
    "1. \n",
    "   $$\n",
    "   i \\cdot \\sum_{v \\in V} x_{v, i} \\leq z, \\quad \\forall i \\in \\{1, 2, \\dots, B\\}\n",
    "   $$\n",
    "\n",
    "2. **(6)** Chaque sommet $v$ ne peut apparaître **qu'une seule fois** dans la séquence :\n",
    "   $$\n",
    "   \\sum_{i=1}^B x_{v, i} \\leq 1, \\quad \\forall v \\in V\n",
    "   $$\n",
    "\n",
    "3. **(7)** À chaque position $i$ dans la séquence (1 à $B$), il doit y avoir **exactement un sommet** assigné :\n",
    "   $$\n",
    "   \\sum_{v \\in V} x_{v, i} = 1, \\quad \\forall i \\in \\{1, 2, \\dots, B\\}\n",
    "   $$\n",
    "\n",
    "4. **(8)** Chaque sommet $v$ doit être **couvert** (brûlé) au plus tard à l'étape $B$ :\n",
    "   $$\n",
    "   \\sum_{i=1}^B \\sum_{u \\in V : v \\in N_{B-i}[u]} x_{u, i} \\geq 1, \\quad \\forall v \\in V\n",
    "   $$\n",
    "   où $N_{B-i}[u]$ est le voisinage étendu autour du sommet $u$ avec une distance $B-i$.\n",
    "\n",
    "\n",
    "### **Explications :**\n",
    "1. **Données d'entrée** :\n",
    "   - `V` : Liste des sommets du graphe.\n",
    "   - `B` : Longueur maximale de la séquence.\n",
    "   - `N` : Dictionnaire représentant les voisins étendus $ N_{B-i}[u] $ pour un sommet $ u $.\n",
    "\n",
    "2. **Variables** :\n",
    "   - `x[v, i]` : Variables binaires créées avec `addVars`.\n",
    "\n",
    "3. **Contraintes** :\n",
    "   - `(6)` : Chaque sommet $ v $ apparaît au plus une fois.\n",
    "   - `(7)` : Chaque position $ i $ de la séquence contient exactement un sommet.\n",
    "   - `(8)` : Chaque sommet $ v $ est \"couvert\" par au moins un feu à l'étape $ i $.\n",
    "\n",
    "4. **Optimisation** :\n",
    "   - La fonction objectif est laissée vide (à compléter selon le problème).\n",
    "\n",
    "---\n",
    "\n",
    "### **Résultat attendu :**\n",
    "Après exécution, le programme affichera quels sommets $ v $ sont brûlés à quelles étapes $ i $.\n",
    "\n",
    "---"
   ]
  },
  {
   "cell_type": "code",
   "execution_count": 34,
   "metadata": {},
   "outputs": [],
   "source": [
    "# 10 sommets (3.16)\n",
    "#fichier = r'instances\\Stranke94\\Stranke94.mtx'\n",
    "\n",
    "# 29 sommets (5.38)\n",
    "#fichier = r'instances\\bn-mouse_visual-cortex_1\\bn-mouse_visual-cortex_1.mtx'\n",
    "\n",
    "# 34 sommets (5,83)\n",
    "fichier = r'instances\\karate\\karate.mtx'\n",
    "\n",
    "# 7057 sommets (84.005)\n",
    "#fichier = r'instances\\fb-pages-government\\fb-pages-government.mtx'\n",
    "\n",
    "# 11631 sommets (107.84)\n",
    "#fichier = r'instances\\web-wiki-crocodile\\web-wiki-crocodile.mtx'\n",
    "\n",
    "# 196 591 sommets (443.38)\n",
    "#fichier = r'instances\\loc-gowalla_edges\\loc-gowalla_edges.mtx'\n",
    "\n",
    "graphe = lire_graphe(fichier)"
   ]
  },
  {
   "cell_type": "code",
   "execution_count": 35,
   "metadata": {},
   "outputs": [],
   "source": [
    "# Graphe cyclique\n",
    "#graphe = generate_cyclic_graph(16)\n",
    "\n",
    "# Graphe en chaîne\n",
    "#graphe = generate_chain_graph(16)\n",
    "\n",
    "# Graphe en étoile (spider)\n",
    "#graphe = generate_spider_graph(0, leg_length=4, num_legs=5)"
   ]
  },
  {
   "cell_type": "code",
   "execution_count": 36,
   "metadata": {},
   "outputs": [],
   "source": [
    "#afficher_graphe(graphe)"
   ]
  },
  {
   "cell_type": "markdown",
   "metadata": {},
   "source": [
    "## Old version"
   ]
  },
  {
   "cell_type": "markdown",
   "metadata": {},
   "source": [
    "relaxation linéarie = x réel appartient à [0, 1]\n",
    "\n",
    "résoudre le voisinage\n",
    "\n",
    "tester pour les graphe chemain et graphe arégné et graphe étoile"
   ]
  },
  {
   "cell_type": "code",
   "execution_count": 40,
   "metadata": {},
   "outputs": [],
   "source": [
    "def solver(graphe):\n",
    "    # Paramètres du modèle\n",
    "    V = list(graphe.keys())  # Sommets du graphe\n",
    "    B = round(len(V) ** 0.5)+1  # Longueur maximale de la séquence de brûlage\n",
    "\n",
    "    # Création du modèle\n",
    "    model = Model(\"GBP-IP\")\n",
    "\n",
    "    # Variables : x[v, i] pour chaque sommet v et étape i\n",
    "    x = model.addVars(V, range(1, B+1), vtype=GRB.BINARY, name=\"x\")\n",
    "\n",
    "    # Variable pour minimiser b\n",
    "    z = model.addVar(vtype=GRB.CONTINUOUS, name=\"z\")\n",
    "\n",
    "    # Contrainte (6) : Chaque sommet apparaît au plus une fois dans la séquence\n",
    "    for v in V:\n",
    "        model.addConstr(quicksum(x[v, i] for i in range(1, B+1)) <= 1, f\"once_{v}\")\n",
    "\n",
    "    # Contrainte (7) : Chaque position i de la séquence a exactement un sommet\n",
    "    for i in range(1, B+1):\n",
    "        model.addConstr(quicksum(x[v, i] for v in V) == 1, f\"position_{i}\")\n",
    "\n",
    "    # Contrainte (8) : Chaque sommet doit être brûlé au plus tard à l'étape B\n",
    "    for v in V:\n",
    "        model.addConstr(quicksum(\n",
    "            quicksum(x[u, i] \n",
    "                     for u in V \n",
    "                     if v in calculer_voisinage_etendu(graphe, u, B-i))  # Voisins pouvant brûler v\n",
    "            for i in range(1, B+1)\n",
    "        ) >= 1, f\"cover_{v}\")\n",
    "\n",
    "    # Contrainte (9) : i * \\sum_{v \\in V} x[v, i] <= b, \\forall i \\in {1, ..., B}\n",
    "    for i in range(1, B+1):\n",
    "        model.addConstr(i * quicksum(x[v, i] for v in V) <= z, f\"minimize_z_{i}\")\n",
    "\n",
    "    # Fonction objectif : Minimiser b\n",
    "    model.setObjective(z, GRB.MINIMIZE)\n",
    "\n",
    "    model.setParam(\"OutputFlag\", 0)  # Désactiver les logs\n",
    "\n",
    "    # Résolution du modèle\n",
    "    model.optimize()\n",
    "    # Affichage des résultats\n",
    "    if model.status == GRB.OPTIMAL:\n",
    "        #print(\"Solution optimale trouvée :\")\n",
    "        chemin = []  # Liste pour enregistrer les sommets brûlés à chaque étape\n",
    "        for i in range(1, B+1):\n",
    "            for v in V:\n",
    "                if x[v, i].x > 0.5:  # Vérifier si x[v, i] est actif\n",
    "                    chemin.append(v)  # Ajouter le sommet et l'étape au chemin\n",
    "                    #print(f\"Le sommet {v} est brûlé à l'étape {i}\")\n",
    "        \n",
    "        #print(\"Chemin trouvé :\", chemin)  # Afficher la séquence complète des sommets brûlés\n",
    "        return chemin, len(chemin)\n",
    "    else:\n",
    "        #print(\"Pas de solution optimale trouvée.\")\n",
    "        return None, None"
   ]
  },
  {
   "cell_type": "markdown",
   "metadata": {},
   "source": [
    "La modélisation présente quelques problèmes clés à corriger, notamment concernant la fonction objectif et l'utilisation de `B`. Voici les points essentiels :\n",
    "\n",
    "### **Problèmes identifiés :**\n",
    "1. **Fonction objectif redondante** :  \n",
    "   La variable `z` est forcée d'être égale à `B` à cause des contraintes (1) et (7). En effet :  \n",
    "   - La contrainte (7) impose qu'à chaque étape `i`, un sommet est choisi (`sum x[v,i] = 1`).  \n",
    "   - La contrainte (1) donne `i * 1 ≤ z` pour tout `i`, donc `z ≥ B`.  \n",
    "   Minimiser `z` revient donc à fixer `z = B`, ce qui rend l'objectif inutile.\n",
    "\n",
    "2. **Paramètre `B` mal défini** :  \n",
    "   `B` est actuellement fixé à `round(len(V)**0.5)`, ce qui n'est pas nécessairement optimal. Le véritable objectif devrait être de **minimiser `B`** (le nombre d'étapes pour brûler le graphe), mais `B` est traité comme une constante ici."
   ]
  },
  {
   "cell_type": "markdown",
   "metadata": {},
   "source": [
    "## New version"
   ]
  },
  {
   "cell_type": "code",
   "execution_count": 41,
   "metadata": {},
   "outputs": [],
   "source": [
    "def solveur_gbp(graphe):\n",
    "    B_max = round(len(graphe)**0.5) + 1\n",
    "    \n",
    "    for B in range(1, B_max + 1):\n",
    "        model = Model(\"GBP-IP\")\n",
    "        V = list(graphe.keys())\n",
    "        x = model.addVars(V, range(1, B+1), vtype=GRB.BINARY, name=\"x\")\n",
    "\n",
    "        # Contrainte (6)\n",
    "        for v in V:\n",
    "            model.addConstr(quicksum(x[v, i] for i in range(1, B+1)) <= 1, f\"once_{v}\")\n",
    "\n",
    "        # Contrainte (7)\n",
    "        for i in range(1, B+1):\n",
    "            model.addConstr(quicksum(x[v, i] for v in V) == 1, f\"position_{i}\")\n",
    "\n",
    "        # Contrainte (8)\n",
    "        for v in V:\n",
    "            model.addConstr(\n",
    "                quicksum(\n",
    "                    x[u, i] \n",
    "                    for i in range(1, B+1) \n",
    "                    for u in V \n",
    "                    if v in calculer_voisinage_etendu(graphe, u, B - i)\n",
    "                ) >= 1, \n",
    "                f\"cover_{v}\"\n",
    "            )\n",
    "\n",
    "        model.setParam(\"OutputFlag\", 0)  # Désactiver les logs\n",
    "        model.optimize()\n",
    "        \n",
    "        # Affichage des résultats\n",
    "        if model.status == GRB.OPTIMAL:\n",
    "            #print(f\"Solution trouvée pour B = {B}\")\n",
    "            chemin = []  # Liste pour enregistrer les sommets brûlés à chaque étape\n",
    "            for i in range(1, B+1):\n",
    "                for v in V:\n",
    "                    if x[v, i].x > 0.5:  # Vérifier si x[v, i] est actif\n",
    "                        chemin.append(v)  # Ajouter le sommet et l'étape au chemin\n",
    "            \n",
    "            #print(\"Chemin trouvé :\", chemin)  # Afficher la séquence complète des sommets brûlés\n",
    "            return chemin, B  # Retourner la solution optimale\n",
    "    return None, None"
   ]
  },
  {
   "cell_type": "code",
   "execution_count": 42,
   "metadata": {},
   "outputs": [
    {
     "name": "stdout",
     "output_type": "stream",
     "text": [
      "Solution optimale trouvée :\n",
      "Chemin trouvé : [21, 32, 3, 29, 18, 16, 11]\n"
     ]
    },
    {
     "data": {
      "text/plain": [
       "([21, 32, 3, 29, 18, 16, 11], 7)"
      ]
     },
     "execution_count": 42,
     "metadata": {},
     "output_type": "execute_result"
    }
   ],
   "source": [
    "solver(graphe)"
   ]
  },
  {
   "cell_type": "code",
   "execution_count": 43,
   "metadata": {},
   "outputs": [
    {
     "name": "stdout",
     "output_type": "stream",
     "text": [
      "Solution trouvée pour B = 4\n",
      "Chemin trouvé : [32, 17, 3, 29]\n"
     ]
    }
   ],
   "source": [
    "chemin, c = solveur_gbp(graphe)"
   ]
  },
  {
   "cell_type": "code",
   "execution_count": 44,
   "metadata": {},
   "outputs": [],
   "source": [
    "#visualiser_graphe_par_etape(graphe, chemin)"
   ]
  }
 ],
 "metadata": {
  "kernelspec": {
   "display_name": ".venv",
   "language": "python",
   "name": "python3"
  },
  "language_info": {
   "codemirror_mode": {
    "name": "ipython",
    "version": 3
   },
   "file_extension": ".py",
   "mimetype": "text/x-python",
   "name": "python",
   "nbconvert_exporter": "python",
   "pygments_lexer": "ipython3",
   "version": "3.11.6"
  }
 },
 "nbformat": 4,
 "nbformat_minor": 2
}
