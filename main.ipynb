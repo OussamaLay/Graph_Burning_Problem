{
 "cells": [
  {
   "cell_type": "code",
   "execution_count": 1,
   "metadata": {},
   "outputs": [],
   "source": [
    "import nbimporter\n",
    "import pandas as pd\n",
    "import math\n",
    "#import ace_tools as tools"
   ]
  },
  {
   "cell_type": "code",
   "execution_count": 2,
   "metadata": {},
   "outputs": [],
   "source": [
    "from fct_usuelles import lire_graphe, afficher_graphe, visualiser_graphe_par_etape\n",
    "from fct_usuelles import generate_cyclic_graph, generate_chain_graph, generate_spider_graph\n",
    "from mtd_math import solver, solveur_gbp\n",
    "from algo_recherche import recherche_profondeur, recherche_largeur, trouver_sequence_brulage, couverture_balle"
   ]
  },
  {
   "cell_type": "markdown",
   "metadata": {},
   "source": [
    "# 1"
   ]
  },
  {
   "cell_type": "code",
   "execution_count": 3,
   "metadata": {},
   "outputs": [],
   "source": [
    "# 10 sommets (3.16)\n",
    "fichier = r'instances\\Stranke94\\Stranke94.mtx'\n",
    "\n",
    "# 29 sommets (5.38)\n",
    "#fichier = r'instances\\bn-mouse_visual-cortex_1\\bn-mouse_visual-cortex_1.mtx'\n",
    "\n",
    "# 34 sommets (5,83)\n",
    "#fichier = r'instances\\karate\\karate.mtx'\n",
    "\n",
    "# 62 sommets (7.87)\n",
    "#fichier = r'instances\\dolphins\\dolphins.mtx'\n",
    "\n",
    "# 105 sommets (12.88)\n",
    "#fichier = r'instances\\polbooks\\polbooks.mtx'\n",
    "\n",
    "# 258 sommets (16.06)\n",
    "#fichier = r'instances\\sphere3\\sphere3.mtx'\n",
    "\n",
    "# 379 sommets (19.47)\n",
    "#fichier = r'instances\\ca-netscience\\ca-netscience.mtx'\n",
    "\n",
    "# 7057 sommets (84.005)\n",
    "#fichier = r'instances\\fb-pages-government\\fb-pages-government.mtx'\n",
    "\n",
    "# 11631 sommets (107.84)\n",
    "#fichier = r'instances\\web-wiki-crocodile\\web-wiki-crocodile.mtx'\n",
    "\n",
    "# 196 591 sommets (443.38)\n",
    "#fichier = r'instances\\loc-gowalla_edges\\loc-gowalla_edges.mtx'\n",
    "\n",
    "graphe = lire_graphe(fichier)"
   ]
  },
  {
   "cell_type": "code",
   "execution_count": 4,
   "metadata": {},
   "outputs": [],
   "source": [
    "# Graphe cyclique (4)\n",
    "#graphe = generate_cyclic_graph(16)\n",
    "\n",
    "# Graphe en chaîne (4)\n",
    "#graphe = generate_chain_graph(16)\n",
    "\n",
    "# Graphe en étoile/spider (4.58)\n",
    "#graphe = generate_spider_graph(0, leg_length=4, num_legs=5)"
   ]
  },
  {
   "cell_type": "code",
   "execution_count": 5,
   "metadata": {},
   "outputs": [],
   "source": [
    "#afficher_graphe(graphe)"
   ]
  },
  {
   "cell_type": "markdown",
   "metadata": {},
   "source": [
    "---"
   ]
  },
  {
   "cell_type": "markdown",
   "metadata": {},
   "source": [
    "## Methode mathematique"
   ]
  },
  {
   "cell_type": "markdown",
   "metadata": {},
   "source": [
    "### Mthd 1"
   ]
  },
  {
   "cell_type": "code",
   "execution_count": null,
   "metadata": {},
   "outputs": [],
   "source": [
    "sommets, cout = solver(graphe)\n",
    "\n",
    "sommets, cout"
   ]
  },
  {
   "cell_type": "markdown",
   "metadata": {},
   "source": [
    "### Mthd 2"
   ]
  },
  {
   "cell_type": "code",
   "execution_count": 7,
   "metadata": {},
   "outputs": [],
   "source": [
    "chemin, cout = solveur_gbp(graphe)\n",
    "\n",
    "chemin, cout"
   ]
  },
  {
   "cell_type": "markdown",
   "metadata": {},
   "source": [
    "---"
   ]
  },
  {
   "cell_type": "markdown",
   "metadata": {},
   "source": [
    "## Algo de recherche"
   ]
  },
  {
   "cell_type": "code",
   "execution_count": 8,
   "metadata": {},
   "outputs": [],
   "source": [
    "etat_initial = {sommet: 0 for sommet in graphe}"
   ]
  },
  {
   "cell_type": "markdown",
   "metadata": {},
   "source": [
    "### DFS"
   ]
  },
  {
   "cell_type": "code",
   "execution_count": null,
   "metadata": {},
   "outputs": [],
   "source": [
    "sommets_actifs_p, cout_p = recherche_profondeur(graphe, etat_initial)\n",
    "\n",
    "print(\"*********** Parcours en profondeur ***********\")\n",
    "print(\"Sommets brûlés à chaque étape:\", sommets_actifs_p)\n",
    "print(\"Coût total:\", cout)"
   ]
  },
  {
   "cell_type": "markdown",
   "metadata": {},
   "source": [
    "### BFS"
   ]
  },
  {
   "cell_type": "code",
   "execution_count": null,
   "metadata": {},
   "outputs": [],
   "source": [
    "sommets_actifs_l, cout_l = recherche_largeur(graphe, etat_initial)\n",
    "\n",
    "print(\"*********** Parcours en largeur ***********\")\n",
    "print(\"Sommets brûlés à chaque étape:\", sommets_actifs_l)\n",
    "print(\"Coût total:\", cout)"
   ]
  },
  {
   "cell_type": "markdown",
   "metadata": {},
   "source": [
    "### Couverture des balles"
   ]
  },
  {
   "cell_type": "code",
   "execution_count": null,
   "metadata": {},
   "outputs": [],
   "source": [
    "sequence = couverture_balle(graphe)\n",
    "if sequence:\n",
    "    print(\"Solution optimale trouvée :\", sequence)\n",
    "    liste_triee = sorted(sequence, key=lambda x: x[1], reverse=True)\n",
    "    seq = [centre for centre, rayon in liste_triee]\n",
    "else:\n",
    "    print(\"Aucune solution valide trouvée.\")"
   ]
  },
  {
   "cell_type": "code",
   "execution_count": null,
   "metadata": {},
   "outputs": [],
   "source": [
    "#visualiser_graphe_par_etape(graphe, seq)\n"
   ]
  },
  {
   "cell_type": "markdown",
   "metadata": {},
   "source": [
    "---"
   ]
  },
  {
   "cell_type": "markdown",
   "metadata": {},
   "source": [
    "# 2"
   ]
  },
  {
   "cell_type": "code",
   "execution_count": 14,
   "metadata": {},
   "outputs": [],
   "source": [
    "# Définition des graphes à tester\n",
    "graphes = {\n",
    "    \"Stranke94\": lire_graphe(r'instances/Stranke94/Stranke94.mtx'),\n",
    "    \"mouse_visual-cortex_1\": lire_graphe(r'instances/bn-mouse_visual-cortex_1/bn-mouse_visual-cortex_1.mtx'),\n",
    "    \"karate\": lire_graphe(r'instances/karate/karate.mtx'),\n",
    "    \"dolphins\": lire_graphe(r'instances/dolphins/dolphins.mtx'),\n",
    "    \"polbooks\": lire_graphe(r'instances/polbooks/polbooks.mtx'),\n",
    "    #\"sphere3\": lire_graphe(r'instances/sphere3/sphere3.mtx'),\n",
    "    #\"ca-netscience\": lire_graphe(r'instances/ca-netscience/ca-netscience.mtx'),\n",
    "    \"Graphe Cycle\": generate_cyclic_graph(16),\n",
    "    \"Graphe Chaine\": generate_chain_graph(16),\n",
    "    \"Graphe Etoile\": generate_spider_graph(0, leg_length=4, num_legs=5),\n",
    "}"
   ]
  },
  {
   "cell_type": "code",
   "execution_count": null,
   "metadata": {},
   "outputs": [],
   "source": [
    "# Initialisation du tableau des résultats\n",
    "resultats = []\n",
    "\n",
    "# Parcours de chaque graphe\n",
    "for nom, graphe in graphes.items():\n",
    "    nb_sommets = len(graphe)\n",
    "    nb_aretes = sum(len(v) for v in graphe.values()) // 2  # Division par 2 car graphe non orienté\n",
    "    B_max = nb_sommets ** 0.5\n",
    "\n",
    "    # Application des algorithmes\n",
    "    etat_initial = {sommet: 0 for sommet in graphe}\n",
    "\n",
    "    try:\n",
    "        solver_result, cout_s = solver(graphe)\n",
    "    except Exception as e:\n",
    "        solver_result, cout_s = str(e)\n",
    "\n",
    "    try:\n",
    "        chemin, cout_ss  = solveur_gbp(graphe)\n",
    "    except Exception as e:\n",
    "        B, chemin = None, str(e)\n",
    "\n",
    "    try:\n",
    "        sommets_actifs_p, cout_p = recherche_profondeur(graphe, etat_initial)\n",
    "    except Exception as e:\n",
    "        sommets_actifs_p, cout_p = str(e), None\n",
    "\n",
    "    try:\n",
    "        sommets_actifs_l, cout_l = recherche_largeur(graphe, etat_initial)\n",
    "    except Exception as e:\n",
    "        sommets_actifs_l, cout_l = str(e), None\n",
    "\n",
    "    try:\n",
    "        sequence_opt = couverture_balle(graphe)\n",
    "        cout_bb = max([rayon for centre, rayon in sequence_opt])\n",
    "    except Exception as e:\n",
    "        sequence_opt = str(e)\n",
    "    \n",
    "    # Ajout des résultats au tableau\n",
    "    resultats.append({\n",
    "        \"Graphe\": nom,\n",
    "        \"V\": nb_sommets,\n",
    "        \"E\": nb_aretes,\n",
    "        \"B_max\": B_max,\n",
    "        \"Solveur 1\": solver_result,\n",
    "        \"Cout S1\": cout_s,\n",
    "        \"Solveur GBP\": chemin,\n",
    "        \"Cout S2\": cout_ss,\n",
    "        \"Recherche Profondeur\": sommets_actifs_p,\n",
    "        \"Cout RP\": cout_p,\n",
    "        \"Recherche Largeur\": sommets_actifs_l,\n",
    "        \"Cout RL\": cout_l,\n",
    "        \"Sequence Optimale\": sequence_opt,\n",
    "        \"Cout SO\": cout_bb\n",
    "    })\n",
    "\n",
    "\n",
    "# Convertir en DataFrame et afficher\n",
    "df = pd.DataFrame(resultats)\n",
    "\n",
    "df"
   ]
  },
  {
   "cell_type": "code",
   "execution_count": null,
   "metadata": {},
   "outputs": [],
   "source": [
    "num = 3\n",
    "visualiser_graphe_par_etape(graphes[df.iloc[num][\"Graphe\"]], [centre for centre, rayon in df.iloc[num][\"Sequence Optimale\"]])\n",
    "#visualiser_graphe_par_etape(graphes[df.iloc[num][\"Graphe\"]], df.iloc[num][\"Recherche Profondeur\"])"
   ]
  },
  {
   "cell_type": "code",
   "execution_count": null,
   "metadata": {},
   "outputs": [],
   "source": []
  }
 ],
 "metadata": {
  "kernelspec": {
   "display_name": ".venv",
   "language": "python",
   "name": "python3"
  },
  "language_info": {
   "codemirror_mode": {
    "name": "ipython",
    "version": 3
   },
   "file_extension": ".py",
   "mimetype": "text/x-python",
   "name": "python",
   "nbconvert_exporter": "python",
   "pygments_lexer": "ipython3",
   "version": "3.11.6"
  }
 },
 "nbformat": 4,
 "nbformat_minor": 2
}
